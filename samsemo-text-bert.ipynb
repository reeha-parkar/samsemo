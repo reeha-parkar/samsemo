{
 "cells": [
  {
   "cell_type": "code",
   "execution_count": 1,
   "id": "c4e68288-390f-4ffb-bcf2-203aff1d0788",
   "metadata": {},
   "outputs": [],
   "source": [
    "import pickle\n",
    "import torch\n",
    "from torch.utils.data import Dataset, DataLoader\n",
    "from transformers import BertTokenizer, BertForSequenceClassification, BertModel\n",
    "from torch.optim import AdamW\n",
    "import torch.nn as nn\n",
    "import torch.nn.functional as F\n",
    "from sklearn.metrics import f1_score\n",
    "from tqdm import tqdm\n",
    "import pandas as pd\n",
    "import numpy as np\n",
    "import matplotlib.pyplot as plt\n",
    "import seaborn as sns"
   ]
  },
  {
   "cell_type": "code",
   "execution_count": 2,
   "id": "babd9451",
   "metadata": {},
   "outputs": [],
   "source": [
    "pkl_path = \"data/samsemo_en_article.pkl\"\n",
    "with open(pkl_path, \"rb\") as f:\n",
    "    data = pickle.load(f)"
   ]
  },
  {
   "cell_type": "code",
   "execution_count": 3,
   "id": "587a1d0f-b547-4a8c-a48e-c4b09f3088fc",
   "metadata": {},
   "outputs": [
    {
     "name": "stdout",
     "output_type": "stream",
     "text": [
      "<class 'dict'>\n",
      "3\n",
      "dict_keys(['train', 'valid', 'test'])\n",
      "\n",
      "=== TRAIN SPLIT ===\n",
      "Keys in first example: dict_keys(['text', 'audio', 'spec_lens', 'vision', 'imgs_lens', 'labels'])\n",
      "Type of data['train']: <class 'dict'>\n",
      "\n",
      "=== VALID SPLIT ===\n",
      "Keys in first example: dict_keys(['text', 'audio', 'spec_lens', 'vision', 'imgs_lens', 'labels'])\n",
      "Type of data['valid']: <class 'dict'>\n",
      "\n",
      "=== TEST SPLIT ===\n",
      "Keys in first example: dict_keys(['text', 'audio', 'spec_lens', 'vision', 'imgs_lens', 'labels'])\n",
      "Type of data['test']: <class 'dict'>\n"
     ]
    }
   ],
   "source": [
    "# Data Structure Exploration\n",
    "\n",
    "# Basic structure preview\n",
    "print(type(data))         # Dict, list, or DataFrame likely\n",
    "print(len(data))          # Number of entries\n",
    "print(data.keys())        # Keys in data\n",
    "\n",
    "# If data is a dict with splits (train/valid/test):\n",
    "for split in data.keys():\n",
    "    if split in data:\n",
    "        print(f\"\\n=== {split.upper()} SPLIT ===\")\n",
    "        # Check the first example\n",
    "        first_example = data[split]\n",
    "        print(\"Keys in first example:\", first_example.keys())\n",
    "        print(f\"Type of data['{split}']: {type(data[split])}\")\n",
    "        # Possibly print entire example if it's small\n",
    "        # print(\"First example data:\", first_example)"
   ]
  },
  {
   "cell_type": "code",
   "execution_count": 4,
   "id": "6094eb65-3dc7-4e61-8f74-122411ae760f",
   "metadata": {},
   "outputs": [
    {
     "name": "stdout",
     "output_type": "stream",
     "text": [
      "\n",
      "=== TEXT DATA ANALYSIS ===\n",
      "Type of text data: <class 'torch.Tensor'>\n",
      "Length of text data: 2728\n",
      "First text example type: <class 'torch.Tensor'>\n",
      "First text example shape: torch.Size([50, 768])\n",
      "Contains NaN: False\n",
      "Contains Inf: False\n",
      "------------------------------------------------------------\n",
      "=== LABEL DISTRIBUTION ===\n",
      "Class 0: 0.1085 (296 positives out of 2728)\n",
      "Class 1: 0.3548 (968 positives out of 2728)\n",
      "Class 2: 0.0740 (202 positives out of 2728)\n",
      "Class 3: 0.0601 (164 positives out of 2728)\n",
      "Class 4: 0.4274 (1166 positives out of 2728)\n",
      "First label type: <class 'list'>\n",
      "First label example: [0, 0, 0, 1, 0]\n",
      "Number of emotion categories: 5\n",
      "Example 0: [0, 0, 0, 1, 0]\n",
      "Example 1: [0, 1, 0, 0, 0]\n",
      "Example 2: [0, 0, 0, 1, 0]\n"
     ]
    }
   ],
   "source": [
    "# Add this after loading the data\n",
    "# Check the structure and type of text data\n",
    "print(\"\\n=== TEXT DATA ANALYSIS ===\")\n",
    "print(f\"Type of text data: {type(data['train']['text'])}\")\n",
    "print(f\"Length of text data: {len(data['train']['text'])}\")\n",
    "print(f\"First text example type: {type(data['train']['text'][0])}\")\n",
    "if isinstance(data['train']['text'][0], (str, list)):\n",
    "    print(f\"First text example: {data['train']['text'][0][:100]}\")  # First 100 chars if text\n",
    "else:\n",
    "    print(f\"First text example shape: {data['train']['text'][0].shape}\")  # Shape if tensor\n",
    "\n",
    "# Check for NaN/Inf values in inputs\n",
    "text_sample = data['train']['text'][0]\n",
    "if torch.is_tensor(text_sample):\n",
    "    print(f\"Contains NaN: {torch.isnan(text_sample).any()}\")\n",
    "    print(f\"Contains Inf: {torch.isinf(text_sample).any()}\")\n",
    "    \n",
    "print('--'*30)\n",
    "\n",
    "# Label distribution analysis\n",
    "print(\"=== LABEL DISTRIBUTION ===\")\n",
    "labels = np.array(data['train']['labels'])\n",
    "label_sums = labels.sum(axis=0)  # pos count\n",
    "neg_count = len(labels) - label_sums # neg count\n",
    "pos_ratios = label_sums / len(labels) \n",
    "for i, ratio in enumerate(pos_ratios):\n",
    "    print(f\"Class {i}: {ratio:.4f} ({int(label_sums[i])} positives out of {len(labels)})\")\n",
    "\n",
    "#print('--'*30)\n",
    "# Check the label dimensions\n",
    "\n",
    "print(\"First label type:\", type(data[\"train\"][\"labels\"][0]))\n",
    "print(\"First label example:\", data[\"train\"][\"labels\"][0])\n",
    "print(\"Number of emotion categories:\", len(data[\"train\"][\"labels\"][0]))\n",
    "\n",
    "# Look at a few examples\n",
    "for i in range(3):\n",
    "    print(f\"Example {i}: {data['train']['labels'][i]}\")"
   ]
  },
  {
   "cell_type": "code",
   "execution_count": 5,
   "id": "a8cf785c-7263-4042-9123-1222e8e6579c",
   "metadata": {},
   "outputs": [],
   "source": [
    "class SAMSEMODataset(Dataset):\n",
    "    def __init__(self, data_dict, split='train', use_bert_tokenizer=False):\n",
    "        \"\"\"\n",
    "        Args:\n",
    "            data_dict: The loaded SAMSEMO pickle data\n",
    "            split: 'train', 'valid', or 'test'\n",
    "            use_bert_tokenizer: Whether to process text with BERT tokenizer or use pre-computed embeddings\n",
    "        \"\"\"\n",
    "        self.data = data_dict[split]\n",
    "        self.text_data = self.data['text']\n",
    "        self.labels = self.data['labels']\n",
    "        self.use_bert_tokenizer = use_bert_tokenizer\n",
    "        \n",
    "        if use_bert_tokenizer:\n",
    "            self.tokenizer = BertTokenizer.from_pretrained('bert-base-uncased')\n",
    "\n",
    "        # Check label format and get dimension\n",
    "        if isinstance(self.labels[0], list):\n",
    "            self.num_labels = len(self.labels[0])\n",
    "            print(f\"Dataset has {self.num_labels} emotion categories\")\n",
    "    \n",
    "    def __len__(self):\n",
    "        return len(self.labels)\n",
    "    \n",
    "    def __getitem__(self, idx):\n",
    "        if self.use_bert_tokenizer:\n",
    "            # If text data is raw text, tokenize it\n",
    "            encoding = self.tokenizer(\n",
    "                self.text_data[idx],\n",
    "                max_length=128,\n",
    "                padding='max_length',\n",
    "                truncation=True,\n",
    "                return_tensors='pt'\n",
    "            )\n",
    "            text = {k: v.squeeze(0) for k, v in encoding.items()}\n",
    "        else:\n",
    "            # If text data is already BERT embeddings\n",
    "            text = self.text_data[idx]  # Assuming these are tensors\n",
    "            \n",
    "        label = torch.tensor(self.labels[idx], dtype=torch.float)\n",
    "        return {'text': text, 'labels': label}\n",
    "\n",
    "# Create proper collate function for variable length sequences\n",
    "def collate_fn(batch):\n",
    "    labels = torch.stack([item['labels'] for item in batch])\n",
    "    \n",
    "    # Check if text is dictionary (BERT tokenizer output) or tensor (embeddings)\n",
    "    if isinstance(batch[0]['text'], dict):\n",
    "        # BERT tokenizer output\n",
    "        text = {\n",
    "            key: torch.stack([item['text'][key] for item in batch]) \n",
    "            for key in batch[0]['text'].keys()\n",
    "        }\n",
    "    else:\n",
    "        # Pre-computed embeddings - handle variable length sequences\n",
    "        texts = [item['text'] for item in batch]\n",
    "        max_len = max(t.shape[0] for t in texts)\n",
    "        text = torch.stack([\n",
    "            F.pad(t, (0, 0, 0, max_len - t.shape[0])) for t in texts\n",
    "        ])\n",
    "        \n",
    "    return {'text': text, 'labels': labels}"
   ]
  },
  {
   "cell_type": "code",
   "execution_count": 6,
   "id": "1ae32838-2c0d-44c9-a1b7-42f0715deee2",
   "metadata": {},
   "outputs": [],
   "source": [
    "class BERTEmotionClassifier(nn.Module):\n",
    "    def __init__(self, num_labels=5, use_pretrained=True):\n",
    "        super().__init__()\n",
    "        if use_pretrained:\n",
    "            # Use the full BERT model for fine-tuning\n",
    "            self.bert = BertModel.from_pretrained('bert-base-uncased')\n",
    "        else:\n",
    "            # If data already contains BERT embeddings\n",
    "            self.bert = None\n",
    "            \n",
    "        self.dropout = nn.Dropout(0.3)\n",
    "        self.classifier = nn.Sequential(\n",
    "            nn.Linear(768, 256),  # BERT hidden size is 768\n",
    "            nn.ReLU(),\n",
    "            nn.Dropout(0.2),\n",
    "            nn.Linear(256, num_labels)\n",
    "        )\n",
    "        \n",
    "    def forward(self, input_ids=None, attention_mask=None, token_type_ids=None, embeddings=None):\n",
    "        if self.bert is not None and input_ids is not None:\n",
    "            # Process raw text with BERT\n",
    "            outputs = self.bert(\n",
    "                input_ids=input_ids,\n",
    "                attention_mask=attention_mask,\n",
    "                token_type_ids=token_type_ids if token_type_ids is not None else None\n",
    "            )\n",
    "            pooled_output = outputs.pooler_output  # [CLS] token representation\n",
    "        else:\n",
    "            # Use provided embeddings\n",
    "            if embeddings.dim() == 3:  # [batch, seq_len, hidden]\n",
    "                # Apply mean pooling over sequence dimension\n",
    "                pooled_output = embeddings.mean(dim=1)\n",
    "            else:\n",
    "                pooled_output = embeddings\n",
    "                \n",
    "        x = self.dropout(pooled_output)\n",
    "        logits = self.classifier(x)\n",
    "        return logits"
   ]
  },
  {
   "cell_type": "code",
   "execution_count": 7,
   "id": "ee808c2f-2712-4b21-8ad7-01e82fd07789",
   "metadata": {},
   "outputs": [],
   "source": [
    "def find_optimal_threshold(outputs, targets, thresholds=None):\n",
    "    \"\"\"\n",
    "    Find optimal threshold for each class that maximizes F1 score\n",
    "    \n",
    "    Args:\n",
    "        outputs: Model sigmoid outputs (probabilities) as numpy array\n",
    "        targets: Ground truth labels as numpy array\n",
    "        thresholds: Range of thresholds to try (default: 0.1 to 0.9)\n",
    "        \n",
    "    Returns:\n",
    "        List of optimal thresholds for each class\n",
    "    \"\"\"\n",
    "    if thresholds is None:\n",
    "        thresholds = np.arange(0.1, 0.9, 0.05)\n",
    "    \n",
    "    best_thresholds = []\n",
    "    for i in range(targets.shape[1]):\n",
    "        best_f1 = 0\n",
    "        best_thresh = 0.5\n",
    "        \n",
    "        for threshold in thresholds:\n",
    "            preds = (outputs[:, i] > threshold).astype(float)\n",
    "            f1 = f1_score(targets[:, i], preds, average='binary')\n",
    "            if f1 > best_f1:\n",
    "                best_f1 = f1\n",
    "                best_thresh = threshold\n",
    "                \n",
    "        best_thresholds.append(best_thresh)\n",
    "        print(f\"Class {i}: Best threshold = {best_thresh:.2f}, F1 = {best_f1:.4f}\")\n",
    "    \n",
    "    return best_thresholds"
   ]
  },
  {
   "cell_type": "code",
   "execution_count": 8,
   "id": "569fc166-4c03-4165-9487-8e2c2c6454bd",
   "metadata": {},
   "outputs": [
    {
     "name": "stdout",
     "output_type": "stream",
     "text": [
      "Dataset has 5 emotion categories\n",
      "Dataset has 5 emotion categories\n",
      "Class weights: tensor([ 8.2162,  1.8182, 12.5050, 15.6341,  1.3396], device='cuda:0')\n"
     ]
    },
    {
     "name": "stderr",
     "output_type": "stream",
     "text": [
      "Epoch 1/120: 100%|██████████| 171/171 [00:00<00:00, 252.34it/s]\n",
      "Validation: 100%|██████████| 37/37 [00:00<00:00, 656.29it/s]\n"
     ]
    },
    {
     "name": "stdout",
     "output_type": "stream",
     "text": [
      "\n",
      "Finding optimal thresholds:\n",
      "Class 0: Best threshold = 0.50, F1 = 0.2232\n",
      "Class 1: Best threshold = 0.10, F1 = 0.4805\n",
      "Class 2: Best threshold = 0.10, F1 = 0.1340\n",
      "Class 3: Best threshold = 0.10, F1 = 0.1068\n",
      "Class 4: Best threshold = 0.10, F1 = 0.6300\n",
      "Epoch 1/120\n",
      "Accuracy: 0.2072\n",
      "Train Loss: 1.1018\n",
      "Val Loss: 1.0977\n",
      "F1 Score: 0.3149\n",
      "----------------------------------------------------------------------\n"
     ]
    },
    {
     "name": "stderr",
     "output_type": "stream",
     "text": [
      "Epoch 2/120: 100%|██████████| 171/171 [00:00<00:00, 348.14it/s]\n",
      "Validation: 100%|██████████| 37/37 [00:00<00:00, 648.39it/s]\n"
     ]
    },
    {
     "name": "stdout",
     "output_type": "stream",
     "text": [
      "\n",
      "Finding optimal thresholds:\n",
      "Class 0: Best threshold = 0.50, F1 = 0.2278\n",
      "Class 1: Best threshold = 0.10, F1 = 0.4805\n",
      "Class 2: Best threshold = 0.50, F1 = 0.1393\n",
      "Class 3: Best threshold = 0.10, F1 = 0.1068\n",
      "Class 4: Best threshold = 0.10, F1 = 0.6300\n",
      "Epoch 2/120\n",
      "Accuracy: 0.2790\n",
      "Train Loss: 1.0996\n",
      "Val Loss: 1.0965\n",
      "F1 Score: 0.3169\n",
      "----------------------------------------------------------------------\n"
     ]
    },
    {
     "name": "stderr",
     "output_type": "stream",
     "text": [
      "Epoch 3/120: 100%|██████████| 171/171 [00:00<00:00, 356.69it/s]\n",
      "Validation: 100%|██████████| 37/37 [00:00<00:00, 602.95it/s]\n"
     ]
    },
    {
     "name": "stdout",
     "output_type": "stream",
     "text": [
      "\n",
      "Finding optimal thresholds:\n",
      "Class 0: Best threshold = 0.50, F1 = 0.2245\n",
      "Class 1: Best threshold = 0.10, F1 = 0.4805\n",
      "Class 2: Best threshold = 0.50, F1 = 0.1451\n",
      "Class 3: Best threshold = 0.10, F1 = 0.1068\n",
      "Class 4: Best threshold = 0.10, F1 = 0.6300\n",
      "Epoch 3/120\n",
      "Accuracy: 0.2954\n",
      "Train Loss: 1.0981\n",
      "Val Loss: 1.0954\n",
      "F1 Score: 0.3174\n",
      "----------------------------------------------------------------------\n"
     ]
    },
    {
     "name": "stderr",
     "output_type": "stream",
     "text": [
      "Epoch 4/120: 100%|██████████| 171/171 [00:00<00:00, 357.92it/s]\n",
      "Validation: 100%|██████████| 37/37 [00:00<00:00, 642.66it/s]\n"
     ]
    },
    {
     "name": "stdout",
     "output_type": "stream",
     "text": [
      "\n",
      "Finding optimal thresholds:\n",
      "Class 0: Best threshold = 0.50, F1 = 0.2289\n",
      "Class 1: Best threshold = 0.10, F1 = 0.4805\n",
      "Class 2: Best threshold = 0.50, F1 = 0.1484\n",
      "Class 3: Best threshold = 0.50, F1 = 0.1102\n",
      "Class 4: Best threshold = 0.10, F1 = 0.6300\n",
      "Epoch 4/120\n",
      "Accuracy: 0.4766\n",
      "Train Loss: 1.0974\n",
      "Val Loss: 1.0939\n",
      "F1 Score: 0.3196\n",
      "----------------------------------------------------------------------\n"
     ]
    },
    {
     "name": "stderr",
     "output_type": "stream",
     "text": [
      "Epoch 5/120: 100%|██████████| 171/171 [00:00<00:00, 354.22it/s]\n",
      "Validation: 100%|██████████| 37/37 [00:00<00:00, 669.05it/s]\n"
     ]
    },
    {
     "name": "stdout",
     "output_type": "stream",
     "text": [
      "\n",
      "Finding optimal thresholds:\n",
      "Class 0: Best threshold = 0.50, F1 = 0.2409\n",
      "Class 1: Best threshold = 0.10, F1 = 0.4805\n",
      "Class 2: Best threshold = 0.50, F1 = 0.1465\n",
      "Class 3: Best threshold = 0.50, F1 = 0.1437\n",
      "Class 4: Best threshold = 0.10, F1 = 0.6300\n",
      "Epoch 5/120\n",
      "Accuracy: 0.4940\n",
      "Train Loss: 1.0939\n",
      "Val Loss: 1.0924\n",
      "F1 Score: 0.3283\n",
      "----------------------------------------------------------------------\n"
     ]
    },
    {
     "name": "stderr",
     "output_type": "stream",
     "text": [
      "Epoch 6/120: 100%|██████████| 171/171 [00:00<00:00, 351.53it/s]\n",
      "Validation: 100%|██████████| 37/37 [00:00<00:00, 641.24it/s]\n"
     ]
    },
    {
     "name": "stdout",
     "output_type": "stream",
     "text": [
      "\n",
      "Finding optimal thresholds:\n",
      "Class 0: Best threshold = 0.50, F1 = 0.2585\n",
      "Class 1: Best threshold = 0.10, F1 = 0.4805\n",
      "Class 2: Best threshold = 0.50, F1 = 0.1620\n",
      "Class 3: Best threshold = 0.50, F1 = 0.1442\n",
      "Class 4: Best threshold = 0.10, F1 = 0.6300\n",
      "Epoch 6/120\n",
      "Accuracy: 0.5091\n",
      "Train Loss: 1.0927\n",
      "Val Loss: 1.0908\n",
      "F1 Score: 0.3350\n",
      "----------------------------------------------------------------------\n"
     ]
    },
    {
     "name": "stderr",
     "output_type": "stream",
     "text": [
      "Epoch 7/120: 100%|██████████| 171/171 [00:00<00:00, 359.42it/s]\n",
      "Validation: 100%|██████████| 37/37 [00:00<00:00, 679.73it/s]\n"
     ]
    },
    {
     "name": "stdout",
     "output_type": "stream",
     "text": [
      "\n",
      "Finding optimal thresholds:\n",
      "Class 0: Best threshold = 0.50, F1 = 0.2939\n",
      "Class 1: Best threshold = 0.10, F1 = 0.4805\n",
      "Class 2: Best threshold = 0.50, F1 = 0.1720\n",
      "Class 3: Best threshold = 0.50, F1 = 0.1333\n",
      "Class 4: Best threshold = 0.10, F1 = 0.6300\n",
      "Epoch 7/120\n",
      "Accuracy: 0.5169\n",
      "Train Loss: 1.0900\n",
      "Val Loss: 1.0891\n",
      "F1 Score: 0.3420\n",
      "----------------------------------------------------------------------\n"
     ]
    },
    {
     "name": "stderr",
     "output_type": "stream",
     "text": [
      "Epoch 8/120: 100%|██████████| 171/171 [00:00<00:00, 357.42it/s]\n",
      "Validation: 100%|██████████| 37/37 [00:00<00:00, 562.38it/s]\n"
     ]
    },
    {
     "name": "stdout",
     "output_type": "stream",
     "text": [
      "\n",
      "Finding optimal thresholds:\n",
      "Class 0: Best threshold = 0.50, F1 = 0.3148\n",
      "Class 1: Best threshold = 0.45, F1 = 0.4824\n",
      "Class 2: Best threshold = 0.50, F1 = 0.1631\n",
      "Class 3: Best threshold = 0.50, F1 = 0.1441\n",
      "Class 4: Best threshold = 0.10, F1 = 0.6300\n",
      "Epoch 8/120\n",
      "Accuracy: 0.5446\n",
      "Train Loss: 1.0877\n",
      "Val Loss: 1.0875\n",
      "F1 Score: 0.3469\n",
      "----------------------------------------------------------------------\n"
     ]
    },
    {
     "name": "stderr",
     "output_type": "stream",
     "text": [
      "Epoch 9/120: 100%|██████████| 171/171 [00:00<00:00, 359.02it/s]\n",
      "Validation: 100%|██████████| 37/37 [00:00<00:00, 686.99it/s]\n"
     ]
    },
    {
     "name": "stdout",
     "output_type": "stream",
     "text": [
      "\n",
      "Finding optimal thresholds:\n",
      "Class 0: Best threshold = 0.50, F1 = 0.3366\n",
      "Class 1: Best threshold = 0.45, F1 = 0.4856\n",
      "Class 2: Best threshold = 0.50, F1 = 0.1577\n",
      "Class 3: Best threshold = 0.50, F1 = 0.1343\n",
      "Class 4: Best threshold = 0.10, F1 = 0.6300\n",
      "Epoch 9/120\n",
      "Accuracy: 0.5361\n",
      "Train Loss: 1.0865\n",
      "Val Loss: 1.0859\n",
      "F1 Score: 0.3488\n",
      "----------------------------------------------------------------------\n"
     ]
    },
    {
     "name": "stderr",
     "output_type": "stream",
     "text": [
      "Epoch 10/120: 100%|██████████| 171/171 [00:00<00:00, 355.80it/s]\n",
      "Validation: 100%|██████████| 37/37 [00:00<00:00, 684.33it/s]\n"
     ]
    },
    {
     "name": "stdout",
     "output_type": "stream",
     "text": [
      "\n",
      "Finding optimal thresholds:\n",
      "Class 0: Best threshold = 0.50, F1 = 0.3392\n",
      "Class 1: Best threshold = 0.45, F1 = 0.5007\n",
      "Class 2: Best threshold = 0.50, F1 = 0.1552\n",
      "Class 3: Best threshold = 0.50, F1 = 0.1228\n",
      "Class 4: Best threshold = 0.10, F1 = 0.6300\n",
      "Epoch 10/120\n",
      "Accuracy: 0.5665\n",
      "Train Loss: 1.0829\n",
      "Val Loss: 1.0843\n",
      "F1 Score: 0.3496\n",
      "----------------------------------------------------------------------\n"
     ]
    },
    {
     "name": "stderr",
     "output_type": "stream",
     "text": [
      "Epoch 11/120: 100%|██████████| 171/171 [00:00<00:00, 356.88it/s]\n",
      "Validation: 100%|██████████| 37/37 [00:00<00:00, 626.72it/s]\n"
     ]
    },
    {
     "name": "stdout",
     "output_type": "stream",
     "text": [
      "\n",
      "Finding optimal thresholds:\n",
      "Class 0: Best threshold = 0.50, F1 = 0.3356\n",
      "Class 1: Best threshold = 0.45, F1 = 0.5027\n",
      "Class 2: Best threshold = 0.50, F1 = 0.1532\n",
      "Class 3: Best threshold = 0.50, F1 = 0.1391\n",
      "Class 4: Best threshold = 0.10, F1 = 0.6300\n",
      "Epoch 11/120\n",
      "Accuracy: 0.5648\n",
      "Train Loss: 1.0839\n",
      "Val Loss: 1.0825\n",
      "F1 Score: 0.3521\n",
      "----------------------------------------------------------------------\n"
     ]
    },
    {
     "name": "stderr",
     "output_type": "stream",
     "text": [
      "Epoch 12/120: 100%|██████████| 171/171 [00:00<00:00, 358.64it/s]\n",
      "Validation: 100%|██████████| 37/37 [00:00<00:00, 684.18it/s]\n"
     ]
    },
    {
     "name": "stdout",
     "output_type": "stream",
     "text": [
      "\n",
      "Finding optimal thresholds:\n",
      "Class 0: Best threshold = 0.50, F1 = 0.3478\n",
      "Class 1: Best threshold = 0.45, F1 = 0.5027\n",
      "Class 2: Best threshold = 0.50, F1 = 0.1577\n",
      "Class 3: Best threshold = 0.50, F1 = 0.1328\n",
      "Class 4: Best threshold = 0.10, F1 = 0.6300\n",
      "Epoch 12/120\n",
      "Accuracy: 0.5651\n",
      "Train Loss: 1.0815\n",
      "Val Loss: 1.0811\n",
      "F1 Score: 0.3542\n",
      "----------------------------------------------------------------------\n"
     ]
    },
    {
     "name": "stderr",
     "output_type": "stream",
     "text": [
      "Epoch 13/120: 100%|██████████| 171/171 [00:00<00:00, 358.99it/s]\n",
      "Validation: 100%|██████████| 37/37 [00:00<00:00, 660.59it/s]\n"
     ]
    },
    {
     "name": "stdout",
     "output_type": "stream",
     "text": [
      "\n",
      "Finding optimal thresholds:\n",
      "Class 0: Best threshold = 0.50, F1 = 0.3482\n",
      "Class 1: Best threshold = 0.45, F1 = 0.5027\n",
      "Class 2: Best threshold = 0.50, F1 = 0.1610\n",
      "Class 3: Best threshold = 0.50, F1 = 0.1328\n",
      "Class 4: Best threshold = 0.10, F1 = 0.6300\n",
      "Epoch 13/120\n",
      "Accuracy: 0.5638\n",
      "Train Loss: 1.0774\n",
      "Val Loss: 1.0794\n",
      "F1 Score: 0.3549\n",
      "----------------------------------------------------------------------\n"
     ]
    },
    {
     "name": "stderr",
     "output_type": "stream",
     "text": [
      "Epoch 14/120: 100%|██████████| 171/171 [00:00<00:00, 359.24it/s]\n",
      "Validation: 100%|██████████| 37/37 [00:00<00:00, 656.24it/s]\n"
     ]
    },
    {
     "name": "stdout",
     "output_type": "stream",
     "text": [
      "\n",
      "Finding optimal thresholds:\n",
      "Class 0: Best threshold = 0.50, F1 = 0.3424\n",
      "Class 1: Best threshold = 0.45, F1 = 0.5027\n",
      "Class 2: Best threshold = 0.50, F1 = 0.1694\n",
      "Class 3: Best threshold = 0.50, F1 = 0.1364\n",
      "Class 4: Best threshold = 0.45, F1 = 0.6307\n",
      "Epoch 14/120\n",
      "Accuracy: 0.5610\n",
      "Train Loss: 1.0753\n",
      "Val Loss: 1.0777\n",
      "F1 Score: 0.3563\n",
      "----------------------------------------------------------------------\n"
     ]
    },
    {
     "name": "stderr",
     "output_type": "stream",
     "text": [
      "Epoch 15/120: 100%|██████████| 171/171 [00:00<00:00, 356.84it/s]\n",
      "Validation: 100%|██████████| 37/37 [00:00<00:00, 675.85it/s]\n"
     ]
    },
    {
     "name": "stdout",
     "output_type": "stream",
     "text": [
      "\n",
      "Finding optimal thresholds:\n",
      "Class 0: Best threshold = 0.50, F1 = 0.3399\n",
      "Class 1: Best threshold = 0.45, F1 = 0.5027\n",
      "Class 2: Best threshold = 0.50, F1 = 0.1617\n",
      "Class 3: Best threshold = 0.50, F1 = 0.1377\n",
      "Class 4: Best threshold = 0.10, F1 = 0.6300\n",
      "Epoch 15/120\n",
      "Accuracy: 0.5610\n",
      "Train Loss: 1.0738\n",
      "Val Loss: 1.0760\n",
      "F1 Score: 0.3544\n",
      "----------------------------------------------------------------------\n"
     ]
    },
    {
     "name": "stderr",
     "output_type": "stream",
     "text": [
      "Epoch 16/120: 100%|██████████| 171/171 [00:00<00:00, 355.42it/s]\n",
      "Validation: 100%|██████████| 37/37 [00:00<00:00, 649.62it/s]\n"
     ]
    },
    {
     "name": "stdout",
     "output_type": "stream",
     "text": [
      "\n",
      "Finding optimal thresholds:\n",
      "Class 0: Best threshold = 0.50, F1 = 0.3554\n",
      "Class 1: Best threshold = 0.50, F1 = 0.5102\n",
      "Class 2: Best threshold = 0.50, F1 = 0.1681\n",
      "Class 3: Best threshold = 0.50, F1 = 0.1285\n",
      "Class 4: Best threshold = 0.10, F1 = 0.6300\n",
      "Epoch 16/120\n",
      "Accuracy: 0.6181\n",
      "Train Loss: 1.0714\n",
      "Val Loss: 1.0744\n",
      "F1 Score: 0.3584\n",
      "----------------------------------------------------------------------\n"
     ]
    },
    {
     "name": "stderr",
     "output_type": "stream",
     "text": [
      "Epoch 17/120: 100%|██████████| 171/171 [00:00<00:00, 356.91it/s]\n",
      "Validation: 100%|██████████| 37/37 [00:00<00:00, 626.29it/s]\n"
     ]
    },
    {
     "name": "stdout",
     "output_type": "stream",
     "text": [
      "\n",
      "Finding optimal thresholds:\n",
      "Class 0: Best threshold = 0.50, F1 = 0.3565\n",
      "Class 1: Best threshold = 0.50, F1 = 0.5265\n",
      "Class 2: Best threshold = 0.50, F1 = 0.1667\n",
      "Class 3: Best threshold = 0.50, F1 = 0.1319\n",
      "Class 4: Best threshold = 0.10, F1 = 0.6300\n",
      "Epoch 17/120\n",
      "Accuracy: 0.6198\n",
      "Train Loss: 1.0689\n",
      "Val Loss: 1.0730\n",
      "F1 Score: 0.3623\n",
      "----------------------------------------------------------------------\n"
     ]
    },
    {
     "name": "stderr",
     "output_type": "stream",
     "text": [
      "Epoch 18/120: 100%|██████████| 171/171 [00:00<00:00, 359.91it/s]\n",
      "Validation: 100%|██████████| 37/37 [00:00<00:00, 672.52it/s]\n"
     ]
    },
    {
     "name": "stdout",
     "output_type": "stream",
     "text": [
      "\n",
      "Finding optimal thresholds:\n",
      "Class 0: Best threshold = 0.50, F1 = 0.3556\n",
      "Class 1: Best threshold = 0.50, F1 = 0.5072\n",
      "Class 2: Best threshold = 0.50, F1 = 0.1706\n",
      "Class 3: Best threshold = 0.50, F1 = 0.1353\n",
      "Class 4: Best threshold = 0.45, F1 = 0.6313\n",
      "Epoch 18/120\n",
      "Accuracy: 0.6232\n",
      "Train Loss: 1.0671\n",
      "Val Loss: 1.0713\n",
      "F1 Score: 0.3600\n",
      "----------------------------------------------------------------------\n"
     ]
    },
    {
     "name": "stderr",
     "output_type": "stream",
     "text": [
      "Epoch 19/120: 100%|██████████| 171/171 [00:00<00:00, 358.97it/s]\n",
      "Validation: 100%|██████████| 37/37 [00:00<00:00, 679.52it/s]\n"
     ]
    },
    {
     "name": "stdout",
     "output_type": "stream",
     "text": [
      "\n",
      "Finding optimal thresholds:\n",
      "Class 0: Best threshold = 0.50, F1 = 0.3670\n",
      "Class 1: Best threshold = 0.50, F1 = 0.5137\n",
      "Class 2: Best threshold = 0.50, F1 = 0.1698\n",
      "Class 3: Best threshold = 0.50, F1 = 0.1328\n",
      "Class 4: Best threshold = 0.45, F1 = 0.6313\n",
      "Epoch 19/120\n",
      "Accuracy: 0.6205\n",
      "Train Loss: 1.0638\n",
      "Val Loss: 1.0699\n",
      "F1 Score: 0.3629\n",
      "----------------------------------------------------------------------\n"
     ]
    },
    {
     "name": "stderr",
     "output_type": "stream",
     "text": [
      "Epoch 20/120: 100%|██████████| 171/171 [00:00<00:00, 358.18it/s]\n",
      "Validation: 100%|██████████| 37/37 [00:00<00:00, 646.20it/s]\n"
     ]
    },
    {
     "name": "stdout",
     "output_type": "stream",
     "text": [
      "\n",
      "Finding optimal thresholds:\n",
      "Class 0: Best threshold = 0.50, F1 = 0.3509\n",
      "Class 1: Best threshold = 0.50, F1 = 0.5161\n",
      "Class 2: Best threshold = 0.50, F1 = 0.1690\n",
      "Class 3: Best threshold = 0.50, F1 = 0.1441\n",
      "Class 4: Best threshold = 0.10, F1 = 0.6300\n",
      "Epoch 20/120\n",
      "Accuracy: 0.6297\n",
      "Train Loss: 1.0626\n",
      "Val Loss: 1.0683\n",
      "F1 Score: 0.3620\n",
      "----------------------------------------------------------------------\n"
     ]
    },
    {
     "name": "stderr",
     "output_type": "stream",
     "text": [
      "Epoch 21/120: 100%|██████████| 171/171 [00:00<00:00, 357.28it/s]\n",
      "Validation: 100%|██████████| 37/37 [00:00<00:00, 687.49it/s]\n"
     ]
    },
    {
     "name": "stdout",
     "output_type": "stream",
     "text": [
      "\n",
      "Finding optimal thresholds:\n",
      "Class 0: Best threshold = 0.50, F1 = 0.3524\n",
      "Class 1: Best threshold = 0.50, F1 = 0.5198\n",
      "Class 2: Best threshold = 0.50, F1 = 0.1722\n",
      "Class 3: Best threshold = 0.50, F1 = 0.1452\n",
      "Class 4: Best threshold = 0.10, F1 = 0.6300\n",
      "Epoch 21/120\n",
      "Accuracy: 0.6274\n",
      "Train Loss: 1.0599\n",
      "Val Loss: 1.0668\n",
      "F1 Score: 0.3639\n",
      "----------------------------------------------------------------------\n"
     ]
    },
    {
     "name": "stderr",
     "output_type": "stream",
     "text": [
      "Epoch 22/120: 100%|██████████| 171/171 [00:00<00:00, 348.90it/s]\n",
      "Validation: 100%|██████████| 37/37 [00:00<00:00, 623.79it/s]\n"
     ]
    },
    {
     "name": "stdout",
     "output_type": "stream",
     "text": [
      "\n",
      "Finding optimal thresholds:\n",
      "Class 0: Best threshold = 0.50, F1 = 0.3721\n",
      "Class 1: Best threshold = 0.50, F1 = 0.5269\n",
      "Class 2: Best threshold = 0.55, F1 = 0.1967\n",
      "Class 3: Best threshold = 0.50, F1 = 0.1435\n",
      "Class 4: Best threshold = 0.10, F1 = 0.6300\n",
      "Epoch 22/120\n",
      "Accuracy: 0.6838\n",
      "Train Loss: 1.0591\n",
      "Val Loss: 1.0655\n",
      "F1 Score: 0.3739\n",
      "----------------------------------------------------------------------\n"
     ]
    },
    {
     "name": "stderr",
     "output_type": "stream",
     "text": [
      "Epoch 23/120: 100%|██████████| 171/171 [00:00<00:00, 359.99it/s]\n",
      "Validation: 100%|██████████| 37/37 [00:00<00:00, 631.79it/s]\n"
     ]
    },
    {
     "name": "stdout",
     "output_type": "stream",
     "text": [
      "\n",
      "Finding optimal thresholds:\n",
      "Class 0: Best threshold = 0.50, F1 = 0.3654\n",
      "Class 1: Best threshold = 0.50, F1 = 0.5243\n",
      "Class 2: Best threshold = 0.50, F1 = 0.1792\n",
      "Class 3: Best threshold = 0.50, F1 = 0.1519\n",
      "Class 4: Best threshold = 0.10, F1 = 0.6300\n",
      "Epoch 23/120\n",
      "Accuracy: 0.6349\n",
      "Train Loss: 1.0536\n",
      "Val Loss: 1.0641\n",
      "F1 Score: 0.3702\n",
      "----------------------------------------------------------------------\n"
     ]
    },
    {
     "name": "stderr",
     "output_type": "stream",
     "text": [
      "Epoch 24/120: 100%|██████████| 171/171 [00:00<00:00, 358.20it/s]\n",
      "Validation: 100%|██████████| 37/37 [00:00<00:00, 684.67it/s]\n"
     ]
    },
    {
     "name": "stdout",
     "output_type": "stream",
     "text": [
      "\n",
      "Finding optimal thresholds:\n",
      "Class 0: Best threshold = 0.50, F1 = 0.3585\n",
      "Class 1: Best threshold = 0.50, F1 = 0.5282\n",
      "Class 2: Best threshold = 0.55, F1 = 0.1846\n",
      "Class 3: Best threshold = 0.50, F1 = 0.1435\n",
      "Class 4: Best threshold = 0.10, F1 = 0.6300\n",
      "Epoch 24/120\n",
      "Accuracy: 0.6790\n",
      "Train Loss: 1.0534\n",
      "Val Loss: 1.0627\n",
      "F1 Score: 0.3689\n",
      "----------------------------------------------------------------------\n"
     ]
    },
    {
     "name": "stderr",
     "output_type": "stream",
     "text": [
      "Epoch 25/120: 100%|██████████| 171/171 [00:00<00:00, 358.44it/s]\n",
      "Validation: 100%|██████████| 37/37 [00:00<00:00, 675.92it/s]\n"
     ]
    },
    {
     "name": "stdout",
     "output_type": "stream",
     "text": [
      "\n",
      "Finding optimal thresholds:\n",
      "Class 0: Best threshold = 0.50, F1 = 0.3551\n",
      "Class 1: Best threshold = 0.50, F1 = 0.5320\n",
      "Class 2: Best threshold = 0.55, F1 = 0.1765\n",
      "Class 3: Best threshold = 0.55, F1 = 0.1509\n",
      "Class 4: Best threshold = 0.45, F1 = 0.6302\n",
      "Epoch 25/120\n",
      "Accuracy: 0.7296\n",
      "Train Loss: 1.0534\n",
      "Val Loss: 1.0613\n",
      "F1 Score: 0.3690\n",
      "----------------------------------------------------------------------\n"
     ]
    },
    {
     "name": "stderr",
     "output_type": "stream",
     "text": [
      "Epoch 26/120: 100%|██████████| 171/171 [00:00<00:00, 359.69it/s]\n",
      "Validation: 100%|██████████| 37/37 [00:00<00:00, 648.65it/s]\n"
     ]
    },
    {
     "name": "stdout",
     "output_type": "stream",
     "text": [
      "\n",
      "Finding optimal thresholds:\n",
      "Class 0: Best threshold = 0.50, F1 = 0.3858\n",
      "Class 1: Best threshold = 0.50, F1 = 0.5267\n",
      "Class 2: Best threshold = 0.50, F1 = 0.1739\n",
      "Class 3: Best threshold = 0.50, F1 = 0.1532\n",
      "Class 4: Best threshold = 0.10, F1 = 0.6300\n",
      "Epoch 26/120\n",
      "Accuracy: 0.6462\n",
      "Train Loss: 1.0476\n",
      "Val Loss: 1.0601\n",
      "F1 Score: 0.3739\n",
      "----------------------------------------------------------------------\n"
     ]
    },
    {
     "name": "stderr",
     "output_type": "stream",
     "text": [
      "Epoch 27/120: 100%|██████████| 171/171 [00:00<00:00, 359.50it/s]\n",
      "Validation: 100%|██████████| 37/37 [00:00<00:00, 645.68it/s]\n"
     ]
    },
    {
     "name": "stdout",
     "output_type": "stream",
     "text": [
      "\n",
      "Finding optimal thresholds:\n",
      "Class 0: Best threshold = 0.55, F1 = 0.3721\n",
      "Class 1: Best threshold = 0.50, F1 = 0.5288\n",
      "Class 2: Best threshold = 0.55, F1 = 0.1918\n",
      "Class 3: Best threshold = 0.50, F1 = 0.1497\n",
      "Class 4: Best threshold = 0.10, F1 = 0.6300\n",
      "Epoch 27/120\n",
      "Accuracy: 0.7087\n",
      "Train Loss: 1.0467\n",
      "Val Loss: 1.0585\n",
      "F1 Score: 0.3745\n",
      "----------------------------------------------------------------------\n"
     ]
    },
    {
     "name": "stderr",
     "output_type": "stream",
     "text": [
      "Epoch 28/120: 100%|██████████| 171/171 [00:00<00:00, 345.78it/s]\n",
      "Validation: 100%|██████████| 37/37 [00:00<00:00, 628.79it/s]\n"
     ]
    },
    {
     "name": "stdout",
     "output_type": "stream",
     "text": [
      "\n",
      "Finding optimal thresholds:\n",
      "Class 0: Best threshold = 0.55, F1 = 0.3692\n",
      "Class 1: Best threshold = 0.50, F1 = 0.5299\n",
      "Class 2: Best threshold = 0.55, F1 = 0.1892\n",
      "Class 3: Best threshold = 0.50, F1 = 0.1466\n",
      "Class 4: Best threshold = 0.10, F1 = 0.6300\n",
      "Epoch 28/120\n",
      "Accuracy: 0.7070\n",
      "Train Loss: 1.0479\n",
      "Val Loss: 1.0572\n",
      "F1 Score: 0.3730\n",
      "----------------------------------------------------------------------\n"
     ]
    },
    {
     "name": "stderr",
     "output_type": "stream",
     "text": [
      "Epoch 29/120: 100%|██████████| 171/171 [00:00<00:00, 348.87it/s]\n",
      "Validation: 100%|██████████| 37/37 [00:00<00:00, 635.14it/s]\n"
     ]
    },
    {
     "name": "stdout",
     "output_type": "stream",
     "text": [
      "\n",
      "Finding optimal thresholds:\n",
      "Class 0: Best threshold = 0.55, F1 = 0.3910\n",
      "Class 1: Best threshold = 0.50, F1 = 0.5223\n",
      "Class 2: Best threshold = 0.55, F1 = 0.1842\n",
      "Class 3: Best threshold = 0.55, F1 = 0.1754\n",
      "Class 4: Best threshold = 0.45, F1 = 0.6315\n",
      "Epoch 29/120\n",
      "Accuracy: 0.7494\n",
      "Train Loss: 1.0439\n",
      "Val Loss: 1.0559\n",
      "F1 Score: 0.3809\n",
      "----------------------------------------------------------------------\n"
     ]
    },
    {
     "name": "stderr",
     "output_type": "stream",
     "text": [
      "Epoch 30/120: 100%|██████████| 171/171 [00:00<00:00, 360.54it/s]\n",
      "Validation: 100%|██████████| 37/37 [00:00<00:00, 654.04it/s]\n"
     ]
    },
    {
     "name": "stdout",
     "output_type": "stream",
     "text": [
      "\n",
      "Finding optimal thresholds:\n",
      "Class 0: Best threshold = 0.55, F1 = 0.3817\n",
      "Class 1: Best threshold = 0.50, F1 = 0.5240\n",
      "Class 2: Best threshold = 0.55, F1 = 0.1892\n",
      "Class 3: Best threshold = 0.55, F1 = 0.1613\n",
      "Class 4: Best threshold = 0.45, F1 = 0.6360\n",
      "Epoch 30/120\n",
      "Accuracy: 0.7497\n",
      "Train Loss: 1.0424\n",
      "Val Loss: 1.0551\n",
      "F1 Score: 0.3784\n",
      "----------------------------------------------------------------------\n"
     ]
    },
    {
     "name": "stderr",
     "output_type": "stream",
     "text": [
      "Epoch 31/120: 100%|██████████| 171/171 [00:00<00:00, 357.02it/s]\n",
      "Validation: 100%|██████████| 37/37 [00:00<00:00, 671.50it/s]\n"
     ]
    },
    {
     "name": "stdout",
     "output_type": "stream",
     "text": [
      "\n",
      "Finding optimal thresholds:\n",
      "Class 0: Best threshold = 0.55, F1 = 0.3939\n",
      "Class 1: Best threshold = 0.50, F1 = 0.5278\n",
      "Class 2: Best threshold = 0.50, F1 = 0.1801\n",
      "Class 3: Best threshold = 0.55, F1 = 0.1695\n",
      "Class 4: Best threshold = 0.45, F1 = 0.6368\n",
      "Epoch 31/120\n",
      "Accuracy: 0.7128\n",
      "Train Loss: 1.0377\n",
      "Val Loss: 1.0539\n",
      "F1 Score: 0.3816\n",
      "----------------------------------------------------------------------\n"
     ]
    },
    {
     "name": "stderr",
     "output_type": "stream",
     "text": [
      "Epoch 32/120: 100%|██████████| 171/171 [00:00<00:00, 344.54it/s]\n",
      "Validation: 100%|██████████| 37/37 [00:00<00:00, 650.45it/s]\n"
     ]
    },
    {
     "name": "stdout",
     "output_type": "stream",
     "text": [
      "\n",
      "Finding optimal thresholds:\n",
      "Class 0: Best threshold = 0.55, F1 = 0.3881\n",
      "Class 1: Best threshold = 0.50, F1 = 0.5280\n",
      "Class 2: Best threshold = 0.55, F1 = 0.1750\n",
      "Class 3: Best threshold = 0.55, F1 = 0.1667\n",
      "Class 4: Best threshold = 0.45, F1 = 0.6368\n",
      "Epoch 32/120\n",
      "Accuracy: 0.7491\n",
      "Train Loss: 1.0385\n",
      "Val Loss: 1.0526\n",
      "F1 Score: 0.3789\n",
      "----------------------------------------------------------------------\n"
     ]
    },
    {
     "name": "stderr",
     "output_type": "stream",
     "text": [
      "Epoch 33/120: 100%|██████████| 171/171 [00:00<00:00, 355.97it/s]\n",
      "Validation: 100%|██████████| 37/37 [00:00<00:00, 675.89it/s]\n"
     ]
    },
    {
     "name": "stdout",
     "output_type": "stream",
     "text": [
      "\n",
      "Finding optimal thresholds:\n",
      "Class 0: Best threshold = 0.55, F1 = 0.3881\n",
      "Class 1: Best threshold = 0.50, F1 = 0.5288\n",
      "Class 2: Best threshold = 0.50, F1 = 0.1860\n",
      "Class 3: Best threshold = 0.55, F1 = 0.1613\n",
      "Class 4: Best threshold = 0.45, F1 = 0.6399\n",
      "Epoch 33/120\n",
      "Accuracy: 0.7121\n",
      "Train Loss: 1.0355\n",
      "Val Loss: 1.0516\n",
      "F1 Score: 0.3808\n",
      "----------------------------------------------------------------------\n"
     ]
    },
    {
     "name": "stderr",
     "output_type": "stream",
     "text": [
      "Epoch 34/120: 100%|██████████| 171/171 [00:00<00:00, 346.85it/s]\n",
      "Validation: 100%|██████████| 37/37 [00:00<00:00, 631.66it/s]\n"
     ]
    },
    {
     "name": "stdout",
     "output_type": "stream",
     "text": [
      "\n",
      "Finding optimal thresholds:\n",
      "Class 0: Best threshold = 0.55, F1 = 0.3881\n",
      "Class 1: Best threshold = 0.50, F1 = 0.5257\n",
      "Class 2: Best threshold = 0.50, F1 = 0.1801\n",
      "Class 3: Best threshold = 0.55, F1 = 0.1562\n",
      "Class 4: Best threshold = 0.45, F1 = 0.6381\n",
      "Epoch 34/120\n",
      "Accuracy: 0.7142\n",
      "Train Loss: 1.0341\n",
      "Val Loss: 1.0502\n",
      "F1 Score: 0.3776\n",
      "----------------------------------------------------------------------\n"
     ]
    },
    {
     "name": "stderr",
     "output_type": "stream",
     "text": [
      "Epoch 35/120: 100%|██████████| 171/171 [00:00<00:00, 354.69it/s]\n",
      "Validation: 100%|██████████| 37/37 [00:00<00:00, 641.46it/s]\n"
     ]
    },
    {
     "name": "stdout",
     "output_type": "stream",
     "text": [
      "\n",
      "Finding optimal thresholds:\n",
      "Class 0: Best threshold = 0.55, F1 = 0.3881\n",
      "Class 1: Best threshold = 0.50, F1 = 0.5263\n",
      "Class 2: Best threshold = 0.50, F1 = 0.1826\n",
      "Class 3: Best threshold = 0.55, F1 = 0.1562\n",
      "Class 4: Best threshold = 0.45, F1 = 0.6373\n",
      "Epoch 35/120\n",
      "Accuracy: 0.7111\n",
      "Train Loss: 1.0319\n",
      "Val Loss: 1.0492\n",
      "F1 Score: 0.3781\n",
      "----------------------------------------------------------------------\n"
     ]
    },
    {
     "name": "stderr",
     "output_type": "stream",
     "text": [
      "Epoch 36/120: 100%|██████████| 171/171 [00:00<00:00, 354.95it/s]\n",
      "Validation: 100%|██████████| 37/37 [00:00<00:00, 661.99it/s]\n"
     ]
    },
    {
     "name": "stdout",
     "output_type": "stream",
     "text": [
      "\n",
      "Finding optimal thresholds:\n",
      "Class 0: Best threshold = 0.55, F1 = 0.3881\n",
      "Class 1: Best threshold = 0.50, F1 = 0.5246\n",
      "Class 2: Best threshold = 0.50, F1 = 0.1722\n",
      "Class 3: Best threshold = 0.55, F1 = 0.1562\n",
      "Class 4: Best threshold = 0.45, F1 = 0.6389\n",
      "Epoch 36/120\n",
      "Accuracy: 0.7142\n",
      "Train Loss: 1.0295\n",
      "Val Loss: 1.0482\n",
      "F1 Score: 0.3760\n",
      "----------------------------------------------------------------------\n"
     ]
    },
    {
     "name": "stderr",
     "output_type": "stream",
     "text": [
      "Epoch 37/120: 100%|██████████| 171/171 [00:00<00:00, 348.40it/s]\n",
      "Validation: 100%|██████████| 37/37 [00:00<00:00, 626.73it/s]\n"
     ]
    },
    {
     "name": "stdout",
     "output_type": "stream",
     "text": [
      "\n",
      "Finding optimal thresholds:\n",
      "Class 0: Best threshold = 0.55, F1 = 0.3852\n",
      "Class 1: Best threshold = 0.50, F1 = 0.5255\n",
      "Class 2: Best threshold = 0.55, F1 = 0.1728\n",
      "Class 3: Best threshold = 0.55, F1 = 0.1587\n",
      "Class 4: Best threshold = 0.45, F1 = 0.6389\n",
      "Epoch 37/120\n",
      "Accuracy: 0.7501\n",
      "Train Loss: 1.0297\n",
      "Val Loss: 1.0473\n",
      "F1 Score: 0.3762\n",
      "----------------------------------------------------------------------\n"
     ]
    },
    {
     "name": "stderr",
     "output_type": "stream",
     "text": [
      "Epoch 38/120: 100%|██████████| 171/171 [00:00<00:00, 346.52it/s]\n",
      "Validation: 100%|██████████| 37/37 [00:00<00:00, 681.17it/s]\n"
     ]
    },
    {
     "name": "stdout",
     "output_type": "stream",
     "text": [
      "\n",
      "Finding optimal thresholds:\n",
      "Class 0: Best threshold = 0.55, F1 = 0.3942\n",
      "Class 1: Best threshold = 0.50, F1 = 0.5255\n",
      "Class 2: Best threshold = 0.50, F1 = 0.1683\n",
      "Class 3: Best threshold = 0.55, F1 = 0.1639\n",
      "Class 4: Best threshold = 0.45, F1 = 0.6364\n",
      "Epoch 38/120\n",
      "Accuracy: 0.7159\n",
      "Train Loss: 1.0291\n",
      "Val Loss: 1.0461\n",
      "F1 Score: 0.3776\n",
      "----------------------------------------------------------------------\n"
     ]
    },
    {
     "name": "stderr",
     "output_type": "stream",
     "text": [
      "Epoch 39/120: 100%|██████████| 171/171 [00:00<00:00, 352.95it/s]\n",
      "Validation: 100%|██████████| 37/37 [00:00<00:00, 682.99it/s]\n"
     ]
    },
    {
     "name": "stdout",
     "output_type": "stream",
     "text": [
      "\n",
      "Finding optimal thresholds:\n",
      "Class 0: Best threshold = 0.55, F1 = 0.3824\n",
      "Class 1: Best threshold = 0.50, F1 = 0.5280\n",
      "Class 2: Best threshold = 0.50, F1 = 0.1675\n",
      "Class 3: Best threshold = 0.55, F1 = 0.1846\n",
      "Class 4: Best threshold = 0.45, F1 = 0.6344\n",
      "Epoch 39/120\n",
      "Accuracy: 0.7138\n",
      "Train Loss: 1.0260\n",
      "Val Loss: 1.0455\n",
      "F1 Score: 0.3794\n",
      "----------------------------------------------------------------------\n"
     ]
    },
    {
     "name": "stderr",
     "output_type": "stream",
     "text": [
      "Epoch 40/120: 100%|██████████| 171/171 [00:00<00:00, 355.00it/s]\n",
      "Validation: 100%|██████████| 37/37 [00:00<00:00, 659.90it/s]\n"
     ]
    },
    {
     "name": "stdout",
     "output_type": "stream",
     "text": [
      "\n",
      "Finding optimal thresholds:\n",
      "Class 0: Best threshold = 0.55, F1 = 0.3942\n",
      "Class 1: Best threshold = 0.50, F1 = 0.5184\n",
      "Class 2: Best threshold = 0.50, F1 = 0.1739\n",
      "Class 3: Best threshold = 0.55, F1 = 0.1846\n",
      "Class 4: Best threshold = 0.45, F1 = 0.6363\n",
      "Epoch 40/120\n",
      "Accuracy: 0.7135\n",
      "Train Loss: 1.0265\n",
      "Val Loss: 1.0442\n",
      "F1 Score: 0.3815\n",
      "----------------------------------------------------------------------\n"
     ]
    },
    {
     "name": "stderr",
     "output_type": "stream",
     "text": [
      "Epoch 41/120: 100%|██████████| 171/171 [00:00<00:00, 359.99it/s]\n",
      "Validation: 100%|██████████| 37/37 [00:00<00:00, 684.61it/s]\n"
     ]
    },
    {
     "name": "stdout",
     "output_type": "stream",
     "text": [
      "\n",
      "Finding optimal thresholds:\n",
      "Class 0: Best threshold = 0.55, F1 = 0.3913\n",
      "Class 1: Best threshold = 0.50, F1 = 0.5212\n",
      "Class 2: Best threshold = 0.50, F1 = 0.1649\n",
      "Class 3: Best threshold = 0.55, F1 = 0.1791\n",
      "Class 4: Best threshold = 0.45, F1 = 0.6326\n",
      "Epoch 41/120\n",
      "Accuracy: 0.7152\n",
      "Train Loss: 1.0199\n",
      "Val Loss: 1.0434\n",
      "F1 Score: 0.3778\n",
      "----------------------------------------------------------------------\n"
     ]
    },
    {
     "name": "stderr",
     "output_type": "stream",
     "text": [
      "Epoch 42/120: 100%|██████████| 171/171 [00:00<00:00, 360.36it/s]\n",
      "Validation: 100%|██████████| 37/37 [00:00<00:00, 689.56it/s]\n"
     ]
    },
    {
     "name": "stdout",
     "output_type": "stream",
     "text": [
      "\n",
      "Finding optimal thresholds:\n",
      "Class 0: Best threshold = 0.55, F1 = 0.4029\n",
      "Class 1: Best threshold = 0.50, F1 = 0.5212\n",
      "Class 2: Best threshold = 0.50, F1 = 0.1709\n",
      "Class 3: Best threshold = 0.55, F1 = 0.1846\n",
      "Class 4: Best threshold = 0.45, F1 = 0.6349\n",
      "Epoch 42/120\n",
      "Accuracy: 0.7166\n",
      "Train Loss: 1.0184\n",
      "Val Loss: 1.0425\n",
      "F1 Score: 0.3829\n",
      "----------------------------------------------------------------------\n"
     ]
    },
    {
     "name": "stderr",
     "output_type": "stream",
     "text": [
      "Epoch 43/120: 100%|██████████| 171/171 [00:00<00:00, 357.71it/s]\n",
      "Validation: 100%|██████████| 37/37 [00:00<00:00, 649.18it/s]\n"
     ]
    },
    {
     "name": "stdout",
     "output_type": "stream",
     "text": [
      "\n",
      "Finding optimal thresholds:\n",
      "Class 0: Best threshold = 0.50, F1 = 0.3938\n",
      "Class 1: Best threshold = 0.50, F1 = 0.5212\n",
      "Class 2: Best threshold = 0.60, F1 = 0.2034\n",
      "Class 3: Best threshold = 0.55, F1 = 0.1818\n",
      "Class 4: Best threshold = 0.45, F1 = 0.6349\n",
      "Epoch 43/120\n",
      "Accuracy: 0.7450\n",
      "Train Loss: 1.0167\n",
      "Val Loss: 1.0418\n",
      "F1 Score: 0.3870\n",
      "----------------------------------------------------------------------\n"
     ]
    },
    {
     "name": "stderr",
     "output_type": "stream",
     "text": [
      "Epoch 44/120: 100%|██████████| 171/171 [00:00<00:00, 358.92it/s]\n",
      "Validation: 100%|██████████| 37/37 [00:00<00:00, 632.51it/s]\n"
     ]
    },
    {
     "name": "stdout",
     "output_type": "stream",
     "text": [
      "\n",
      "Finding optimal thresholds:\n",
      "Class 0: Best threshold = 0.50, F1 = 0.3938\n",
      "Class 1: Best threshold = 0.50, F1 = 0.5202\n",
      "Class 2: Best threshold = 0.60, F1 = 0.1905\n",
      "Class 3: Best threshold = 0.55, F1 = 0.1791\n",
      "Class 4: Best threshold = 0.45, F1 = 0.6358\n",
      "Epoch 44/120\n",
      "Accuracy: 0.7429\n",
      "Train Loss: 1.0169\n",
      "Val Loss: 1.0408\n",
      "F1 Score: 0.3839\n",
      "----------------------------------------------------------------------\n"
     ]
    },
    {
     "name": "stderr",
     "output_type": "stream",
     "text": [
      "Epoch 45/120: 100%|██████████| 171/171 [00:00<00:00, 358.32it/s]\n",
      "Validation: 100%|██████████| 37/37 [00:00<00:00, 643.69it/s]\n"
     ]
    },
    {
     "name": "stdout",
     "output_type": "stream",
     "text": [
      "\n",
      "Finding optimal thresholds:\n",
      "Class 0: Best threshold = 0.55, F1 = 0.4000\n",
      "Class 1: Best threshold = 0.50, F1 = 0.5221\n",
      "Class 2: Best threshold = 0.60, F1 = 0.1935\n",
      "Class 3: Best threshold = 0.55, F1 = 0.1791\n",
      "Class 4: Best threshold = 0.45, F1 = 0.6305\n",
      "Epoch 45/120\n",
      "Accuracy: 0.7538\n",
      "Train Loss: 1.0167\n",
      "Val Loss: 1.0399\n",
      "F1 Score: 0.3851\n",
      "----------------------------------------------------------------------\n"
     ]
    },
    {
     "name": "stderr",
     "output_type": "stream",
     "text": [
      "Epoch 46/120: 100%|██████████| 171/171 [00:00<00:00, 351.73it/s]\n",
      "Validation: 100%|██████████| 37/37 [00:00<00:00, 683.90it/s]\n"
     ]
    },
    {
     "name": "stdout",
     "output_type": "stream",
     "text": [
      "\n",
      "Finding optimal thresholds:\n",
      "Class 0: Best threshold = 0.55, F1 = 0.4000\n",
      "Class 1: Best threshold = 0.50, F1 = 0.5231\n",
      "Class 2: Best threshold = 0.60, F1 = 0.1935\n",
      "Class 3: Best threshold = 0.55, F1 = 0.1791\n",
      "Class 4: Best threshold = 0.45, F1 = 0.6322\n",
      "Epoch 46/120\n",
      "Accuracy: 0.7545\n",
      "Train Loss: 1.0154\n",
      "Val Loss: 1.0390\n",
      "F1 Score: 0.3856\n",
      "----------------------------------------------------------------------\n"
     ]
    },
    {
     "name": "stderr",
     "output_type": "stream",
     "text": [
      "Epoch 47/120: 100%|██████████| 171/171 [00:00<00:00, 360.43it/s]\n",
      "Validation: 100%|██████████| 37/37 [00:00<00:00, 653.52it/s]\n"
     ]
    },
    {
     "name": "stdout",
     "output_type": "stream",
     "text": [
      "\n",
      "Finding optimal thresholds:\n",
      "Class 0: Best threshold = 0.55, F1 = 0.4085\n",
      "Class 1: Best threshold = 0.50, F1 = 0.5255\n",
      "Class 2: Best threshold = 0.60, F1 = 0.1905\n",
      "Class 3: Best threshold = 0.55, F1 = 0.1791\n",
      "Class 4: Best threshold = 0.45, F1 = 0.6314\n",
      "Epoch 47/120\n",
      "Accuracy: 0.7552\n",
      "Train Loss: 1.0157\n",
      "Val Loss: 1.0380\n",
      "F1 Score: 0.3870\n",
      "----------------------------------------------------------------------\n"
     ]
    },
    {
     "name": "stderr",
     "output_type": "stream",
     "text": [
      "Epoch 48/120: 100%|██████████| 171/171 [00:00<00:00, 359.73it/s]\n",
      "Validation: 100%|██████████| 37/37 [00:00<00:00, 663.48it/s]\n"
     ]
    },
    {
     "name": "stdout",
     "output_type": "stream",
     "text": [
      "\n",
      "Finding optimal thresholds:\n",
      "Class 0: Best threshold = 0.60, F1 = 0.4031\n",
      "Class 1: Best threshold = 0.50, F1 = 0.5261\n",
      "Class 2: Best threshold = 0.60, F1 = 0.1846\n",
      "Class 3: Best threshold = 0.55, F1 = 0.1791\n",
      "Class 4: Best threshold = 0.10, F1 = 0.6300\n",
      "Epoch 48/120\n",
      "Accuracy: 0.7480\n",
      "Train Loss: 1.0151\n",
      "Val Loss: 1.0371\n",
      "F1 Score: 0.3846\n",
      "----------------------------------------------------------------------\n"
     ]
    },
    {
     "name": "stderr",
     "output_type": "stream",
     "text": [
      "Epoch 49/120: 100%|██████████| 171/171 [00:00<00:00, 356.35it/s]\n",
      "Validation: 100%|██████████| 37/37 [00:00<00:00, 673.84it/s]\n"
     ]
    },
    {
     "name": "stdout",
     "output_type": "stream",
     "text": [
      "\n",
      "Finding optimal thresholds:\n",
      "Class 0: Best threshold = 0.60, F1 = 0.3969\n",
      "Class 1: Best threshold = 0.50, F1 = 0.5265\n",
      "Class 2: Best threshold = 0.60, F1 = 0.1791\n",
      "Class 3: Best threshold = 0.55, F1 = 0.1791\n",
      "Class 4: Best threshold = 0.10, F1 = 0.6300\n",
      "Epoch 49/120\n",
      "Accuracy: 0.7480\n",
      "Train Loss: 1.0114\n",
      "Val Loss: 1.0360\n",
      "F1 Score: 0.3823\n",
      "----------------------------------------------------------------------\n"
     ]
    },
    {
     "name": "stderr",
     "output_type": "stream",
     "text": [
      "Epoch 50/120: 100%|██████████| 171/171 [00:00<00:00, 346.59it/s]\n",
      "Validation: 100%|██████████| 37/37 [00:00<00:00, 662.15it/s]\n"
     ]
    },
    {
     "name": "stdout",
     "output_type": "stream",
     "text": [
      "\n",
      "Finding optimal thresholds:\n",
      "Class 0: Best threshold = 0.55, F1 = 0.3973\n",
      "Class 1: Best threshold = 0.45, F1 = 0.5255\n",
      "Class 2: Best threshold = 0.60, F1 = 0.1846\n",
      "Class 3: Best threshold = 0.55, F1 = 0.1791\n",
      "Class 4: Best threshold = 0.10, F1 = 0.6300\n",
      "Epoch 50/120\n",
      "Accuracy: 0.7200\n",
      "Train Loss: 1.0107\n",
      "Val Loss: 1.0356\n",
      "F1 Score: 0.3833\n",
      "----------------------------------------------------------------------\n"
     ]
    },
    {
     "name": "stderr",
     "output_type": "stream",
     "text": [
      "Epoch 51/120: 100%|██████████| 171/171 [00:00<00:00, 351.31it/s]\n",
      "Validation: 100%|██████████| 37/37 [00:00<00:00, 674.49it/s]\n"
     ]
    },
    {
     "name": "stdout",
     "output_type": "stream",
     "text": [
      "\n",
      "Finding optimal thresholds:\n",
      "Class 0: Best threshold = 0.60, F1 = 0.3939\n",
      "Class 1: Best threshold = 0.45, F1 = 0.5273\n",
      "Class 2: Best threshold = 0.50, F1 = 0.1837\n",
      "Class 3: Best threshold = 0.55, F1 = 0.1791\n",
      "Class 4: Best threshold = 0.10, F1 = 0.6300\n",
      "Epoch 51/120\n",
      "Accuracy: 0.6875\n",
      "Train Loss: 1.0082\n",
      "Val Loss: 1.0346\n",
      "F1 Score: 0.3828\n",
      "----------------------------------------------------------------------\n"
     ]
    },
    {
     "name": "stderr",
     "output_type": "stream",
     "text": [
      "Epoch 52/120: 100%|██████████| 171/171 [00:00<00:00, 357.19it/s]\n",
      "Validation: 100%|██████████| 37/37 [00:00<00:00, 669.46it/s]\n"
     ]
    },
    {
     "name": "stdout",
     "output_type": "stream",
     "text": [
      "\n",
      "Finding optimal thresholds:\n",
      "Class 0: Best threshold = 0.50, F1 = 0.4000\n",
      "Class 1: Best threshold = 0.50, F1 = 0.5295\n",
      "Class 2: Best threshold = 0.60, F1 = 0.1846\n",
      "Class 3: Best threshold = 0.50, F1 = 0.1831\n",
      "Class 4: Best threshold = 0.10, F1 = 0.6300\n",
      "Epoch 52/120\n",
      "Accuracy: 0.7152\n",
      "Train Loss: 1.0067\n",
      "Val Loss: 1.0343\n",
      "F1 Score: 0.3854\n",
      "----------------------------------------------------------------------\n"
     ]
    },
    {
     "name": "stderr",
     "output_type": "stream",
     "text": [
      "Epoch 53/120: 100%|██████████| 171/171 [00:00<00:00, 360.80it/s]\n",
      "Validation: 100%|██████████| 37/37 [00:00<00:00, 625.78it/s]\n"
     ]
    },
    {
     "name": "stdout",
     "output_type": "stream",
     "text": [
      "\n",
      "Finding optimal thresholds:\n",
      "Class 0: Best threshold = 0.55, F1 = 0.4054\n",
      "Class 1: Best threshold = 0.50, F1 = 0.5301\n",
      "Class 2: Best threshold = 0.60, F1 = 0.1818\n",
      "Class 3: Best threshold = 0.55, F1 = 0.1791\n",
      "Class 4: Best threshold = 0.40, F1 = 0.6303\n",
      "Epoch 53/120\n",
      "Accuracy: 0.7460\n",
      "Train Loss: 1.0054\n",
      "Val Loss: 1.0336\n",
      "F1 Score: 0.3854\n",
      "----------------------------------------------------------------------\n"
     ]
    },
    {
     "name": "stderr",
     "output_type": "stream",
     "text": [
      "Epoch 54/120: 100%|██████████| 171/171 [00:00<00:00, 359.49it/s]\n",
      "Validation: 100%|██████████| 37/37 [00:00<00:00, 677.89it/s]\n"
     ]
    },
    {
     "name": "stdout",
     "output_type": "stream",
     "text": [
      "\n",
      "Finding optimal thresholds:\n",
      "Class 0: Best threshold = 0.55, F1 = 0.4027\n",
      "Class 1: Best threshold = 0.50, F1 = 0.5282\n",
      "Class 2: Best threshold = 0.50, F1 = 0.1846\n",
      "Class 3: Best threshold = 0.55, F1 = 0.1791\n",
      "Class 4: Best threshold = 0.40, F1 = 0.6326\n",
      "Epoch 54/120\n",
      "Accuracy: 0.7108\n",
      "Train Loss: 1.0039\n",
      "Val Loss: 1.0328\n",
      "F1 Score: 0.3854\n",
      "----------------------------------------------------------------------\n"
     ]
    },
    {
     "name": "stderr",
     "output_type": "stream",
     "text": [
      "Epoch 55/120: 100%|██████████| 171/171 [00:00<00:00, 357.97it/s]\n",
      "Validation: 100%|██████████| 37/37 [00:00<00:00, 655.93it/s]\n"
     ]
    },
    {
     "name": "stdout",
     "output_type": "stream",
     "text": [
      "\n",
      "Finding optimal thresholds:\n",
      "Class 0: Best threshold = 0.55, F1 = 0.4027\n",
      "Class 1: Best threshold = 0.50, F1 = 0.5288\n",
      "Class 2: Best threshold = 0.50, F1 = 0.1799\n",
      "Class 3: Best threshold = 0.55, F1 = 0.1765\n",
      "Class 4: Best threshold = 0.40, F1 = 0.6333\n",
      "Epoch 55/120\n",
      "Accuracy: 0.7111\n",
      "Train Loss: 1.0018\n",
      "Val Loss: 1.0323\n",
      "F1 Score: 0.3842\n",
      "----------------------------------------------------------------------\n"
     ]
    },
    {
     "name": "stderr",
     "output_type": "stream",
     "text": [
      "Epoch 56/120: 100%|██████████| 171/171 [00:00<00:00, 353.87it/s]\n",
      "Validation: 100%|██████████| 37/37 [00:00<00:00, 665.69it/s]\n"
     ]
    },
    {
     "name": "stdout",
     "output_type": "stream",
     "text": [
      "\n",
      "Finding optimal thresholds:\n",
      "Class 0: Best threshold = 0.55, F1 = 0.4027\n",
      "Class 1: Best threshold = 0.45, F1 = 0.5314\n",
      "Class 2: Best threshold = 0.50, F1 = 0.1895\n",
      "Class 3: Best threshold = 0.55, F1 = 0.1765\n",
      "Class 4: Best threshold = 0.40, F1 = 0.6333\n",
      "Epoch 56/120\n",
      "Accuracy: 0.6906\n",
      "Train Loss: 1.0005\n",
      "Val Loss: 1.0314\n",
      "F1 Score: 0.3867\n",
      "----------------------------------------------------------------------\n"
     ]
    },
    {
     "name": "stderr",
     "output_type": "stream",
     "text": [
      "Epoch 57/120: 100%|██████████| 171/171 [00:00<00:00, 360.35it/s]\n",
      "Validation: 100%|██████████| 37/37 [00:00<00:00, 654.08it/s]\n"
     ]
    },
    {
     "name": "stdout",
     "output_type": "stream",
     "text": [
      "\n",
      "Finding optimal thresholds:\n",
      "Class 0: Best threshold = 0.55, F1 = 0.4082\n",
      "Class 1: Best threshold = 0.45, F1 = 0.5333\n",
      "Class 2: Best threshold = 0.50, F1 = 0.1837\n",
      "Class 3: Best threshold = 0.55, F1 = 0.1791\n",
      "Class 4: Best threshold = 0.40, F1 = 0.6318\n",
      "Epoch 57/120\n",
      "Accuracy: 0.6903\n",
      "Train Loss: 1.0028\n",
      "Val Loss: 1.0306\n",
      "F1 Score: 0.3872\n",
      "----------------------------------------------------------------------\n"
     ]
    },
    {
     "name": "stderr",
     "output_type": "stream",
     "text": [
      "Epoch 58/120: 100%|██████████| 171/171 [00:00<00:00, 346.51it/s]\n",
      "Validation: 100%|██████████| 37/37 [00:00<00:00, 684.62it/s]\n"
     ]
    },
    {
     "name": "stdout",
     "output_type": "stream",
     "text": [
      "\n",
      "Finding optimal thresholds:\n",
      "Class 0: Best threshold = 0.55, F1 = 0.4082\n",
      "Class 1: Best threshold = 0.45, F1 = 0.5325\n",
      "Class 2: Best threshold = 0.50, F1 = 0.1837\n",
      "Class 3: Best threshold = 0.55, F1 = 0.1739\n",
      "Class 4: Best threshold = 0.40, F1 = 0.6341\n",
      "Epoch 58/120\n",
      "Accuracy: 0.6903\n",
      "Train Loss: 0.9994\n",
      "Val Loss: 1.0299\n",
      "F1 Score: 0.3865\n",
      "----------------------------------------------------------------------\n"
     ]
    },
    {
     "name": "stderr",
     "output_type": "stream",
     "text": [
      "Epoch 59/120: 100%|██████████| 171/171 [00:00<00:00, 360.05it/s]\n",
      "Validation: 100%|██████████| 37/37 [00:00<00:00, 665.74it/s]\n"
     ]
    },
    {
     "name": "stdout",
     "output_type": "stream",
     "text": [
      "\n",
      "Finding optimal thresholds:\n",
      "Class 0: Best threshold = 0.55, F1 = 0.4189\n",
      "Class 1: Best threshold = 0.45, F1 = 0.5361\n",
      "Class 2: Best threshold = 0.55, F1 = 0.2124\n",
      "Class 3: Best threshold = 0.55, F1 = 0.1765\n",
      "Class 4: Best threshold = 0.40, F1 = 0.6348\n",
      "Epoch 59/120\n",
      "Accuracy: 0.7176\n",
      "Train Loss: 0.9972\n",
      "Val Loss: 1.0292\n",
      "F1 Score: 0.3957\n",
      "----------------------------------------------------------------------\n"
     ]
    },
    {
     "name": "stderr",
     "output_type": "stream",
     "text": [
      "Epoch 60/120: 100%|██████████| 171/171 [00:00<00:00, 356.92it/s]\n",
      "Validation: 100%|██████████| 37/37 [00:00<00:00, 668.83it/s]\n"
     ]
    },
    {
     "name": "stdout",
     "output_type": "stream",
     "text": [
      "\n",
      "Finding optimal thresholds:\n",
      "Class 0: Best threshold = 0.55, F1 = 0.4314\n",
      "Class 1: Best threshold = 0.50, F1 = 0.5336\n",
      "Class 2: Best threshold = 0.55, F1 = 0.2087\n",
      "Class 3: Best threshold = 0.55, F1 = 0.1690\n",
      "Class 4: Best threshold = 0.45, F1 = 0.6348\n",
      "Epoch 60/120\n",
      "Accuracy: 0.7443\n",
      "Train Loss: 1.0000\n",
      "Val Loss: 1.0288\n",
      "F1 Score: 0.3955\n",
      "----------------------------------------------------------------------\n"
     ]
    },
    {
     "name": "stderr",
     "output_type": "stream",
     "text": [
      "Epoch 61/120: 100%|██████████| 171/171 [00:00<00:00, 344.78it/s]\n",
      "Validation: 100%|██████████| 37/37 [00:00<00:00, 669.87it/s]\n"
     ]
    },
    {
     "name": "stdout",
     "output_type": "stream",
     "text": [
      "\n",
      "Finding optimal thresholds:\n",
      "Class 0: Best threshold = 0.55, F1 = 0.4314\n",
      "Class 1: Best threshold = 0.45, F1 = 0.5331\n",
      "Class 2: Best threshold = 0.55, F1 = 0.2000\n",
      "Class 3: Best threshold = 0.55, F1 = 0.2133\n",
      "Class 4: Best threshold = 0.40, F1 = 0.6323\n",
      "Epoch 61/120\n",
      "Accuracy: 0.7111\n",
      "Train Loss: 0.9970\n",
      "Val Loss: 1.0279\n",
      "F1 Score: 0.4020\n",
      "----------------------------------------------------------------------\n"
     ]
    },
    {
     "name": "stderr",
     "output_type": "stream",
     "text": [
      "Epoch 62/120: 100%|██████████| 171/171 [00:00<00:00, 357.03it/s]\n",
      "Validation: 100%|██████████| 37/37 [00:00<00:00, 690.86it/s]\n"
     ]
    },
    {
     "name": "stdout",
     "output_type": "stream",
     "text": [
      "\n",
      "Finding optimal thresholds:\n",
      "Class 0: Best threshold = 0.55, F1 = 0.4342\n",
      "Class 1: Best threshold = 0.45, F1 = 0.5340\n",
      "Class 2: Best threshold = 0.55, F1 = 0.2000\n",
      "Class 3: Best threshold = 0.55, F1 = 0.1892\n",
      "Class 4: Best threshold = 0.45, F1 = 0.6356\n",
      "Epoch 62/120\n",
      "Accuracy: 0.7227\n",
      "Train Loss: 0.9963\n",
      "Val Loss: 1.0275\n",
      "F1 Score: 0.3986\n",
      "----------------------------------------------------------------------\n"
     ]
    },
    {
     "name": "stderr",
     "output_type": "stream",
     "text": [
      "Epoch 63/120: 100%|██████████| 171/171 [00:00<00:00, 351.33it/s]\n",
      "Validation: 100%|██████████| 37/37 [00:00<00:00, 682.08it/s]\n"
     ]
    },
    {
     "name": "stdout",
     "output_type": "stream",
     "text": [
      "\n",
      "Finding optimal thresholds:\n",
      "Class 0: Best threshold = 0.55, F1 = 0.4314\n",
      "Class 1: Best threshold = 0.45, F1 = 0.5340\n",
      "Class 2: Best threshold = 0.55, F1 = 0.2000\n",
      "Class 3: Best threshold = 0.55, F1 = 0.1739\n",
      "Class 4: Best threshold = 0.45, F1 = 0.6382\n",
      "Epoch 63/120\n",
      "Accuracy: 0.7244\n",
      "Train Loss: 0.9949\n",
      "Val Loss: 1.0270\n",
      "F1 Score: 0.3955\n",
      "----------------------------------------------------------------------\n"
     ]
    },
    {
     "name": "stderr",
     "output_type": "stream",
     "text": [
      "Epoch 64/120: 100%|██████████| 171/171 [00:00<00:00, 339.40it/s]\n",
      "Validation: 100%|██████████| 37/37 [00:00<00:00, 661.86it/s]\n"
     ]
    },
    {
     "name": "stdout",
     "output_type": "stream",
     "text": [
      "\n",
      "Finding optimal thresholds:\n",
      "Class 0: Best threshold = 0.55, F1 = 0.4359\n",
      "Class 1: Best threshold = 0.50, F1 = 0.5364\n",
      "Class 2: Best threshold = 0.55, F1 = 0.2087\n",
      "Class 3: Best threshold = 0.55, F1 = 0.1739\n",
      "Class 4: Best threshold = 0.45, F1 = 0.6348\n",
      "Epoch 64/120\n",
      "Accuracy: 0.7491\n",
      "Train Loss: 0.9918\n",
      "Val Loss: 1.0261\n",
      "F1 Score: 0.3979\n",
      "----------------------------------------------------------------------\n"
     ]
    },
    {
     "name": "stderr",
     "output_type": "stream",
     "text": [
      "Epoch 65/120: 100%|██████████| 171/171 [00:00<00:00, 357.18it/s]\n",
      "Validation: 100%|██████████| 37/37 [00:00<00:00, 674.09it/s]\n"
     ]
    },
    {
     "name": "stdout",
     "output_type": "stream",
     "text": [
      "\n",
      "Finding optimal thresholds:\n",
      "Class 0: Best threshold = 0.55, F1 = 0.4304\n",
      "Class 1: Best threshold = 0.50, F1 = 0.5375\n",
      "Class 2: Best threshold = 0.55, F1 = 0.2000\n",
      "Class 3: Best threshold = 0.50, F1 = 0.1697\n",
      "Class 4: Best threshold = 0.45, F1 = 0.6365\n",
      "Epoch 65/120\n",
      "Accuracy: 0.7203\n",
      "Train Loss: 0.9943\n",
      "Val Loss: 1.0252\n",
      "F1 Score: 0.3948\n",
      "----------------------------------------------------------------------\n"
     ]
    },
    {
     "name": "stderr",
     "output_type": "stream",
     "text": [
      "Epoch 66/120: 100%|██████████| 171/171 [00:00<00:00, 360.86it/s]\n",
      "Validation: 100%|██████████| 37/37 [00:00<00:00, 672.72it/s]\n"
     ]
    },
    {
     "name": "stdout",
     "output_type": "stream",
     "text": [
      "\n",
      "Finding optimal thresholds:\n",
      "Class 0: Best threshold = 0.55, F1 = 0.4331\n",
      "Class 1: Best threshold = 0.50, F1 = 0.5364\n",
      "Class 2: Best threshold = 0.55, F1 = 0.2105\n",
      "Class 3: Best threshold = 0.50, F1 = 0.1728\n",
      "Class 4: Best threshold = 0.45, F1 = 0.6364\n",
      "Epoch 66/120\n",
      "Accuracy: 0.7238\n",
      "Train Loss: 0.9862\n",
      "Val Loss: 1.0251\n",
      "F1 Score: 0.3978\n",
      "----------------------------------------------------------------------\n"
     ]
    },
    {
     "name": "stderr",
     "output_type": "stream",
     "text": [
      "Epoch 67/120: 100%|██████████| 171/171 [00:00<00:00, 360.75it/s]\n",
      "Validation: 100%|██████████| 37/37 [00:00<00:00, 689.11it/s]\n"
     ]
    },
    {
     "name": "stdout",
     "output_type": "stream",
     "text": [
      "\n",
      "Finding optimal thresholds:\n",
      "Class 0: Best threshold = 0.55, F1 = 0.4416\n",
      "Class 1: Best threshold = 0.45, F1 = 0.5408\n",
      "Class 2: Best threshold = 0.55, F1 = 0.2034\n",
      "Class 3: Best threshold = 0.50, F1 = 0.1697\n",
      "Class 4: Best threshold = 0.45, F1 = 0.6405\n",
      "Epoch 67/120\n",
      "Accuracy: 0.7026\n",
      "Train Loss: 0.9917\n",
      "Val Loss: 1.0247\n",
      "F1 Score: 0.3992\n",
      "----------------------------------------------------------------------\n"
     ]
    },
    {
     "name": "stderr",
     "output_type": "stream",
     "text": [
      "Epoch 68/120: 100%|██████████| 171/171 [00:00<00:00, 352.35it/s]\n",
      "Validation: 100%|██████████| 37/37 [00:00<00:00, 671.64it/s]\n"
     ]
    },
    {
     "name": "stdout",
     "output_type": "stream",
     "text": [
      "\n",
      "Finding optimal thresholds:\n",
      "Class 0: Best threshold = 0.55, F1 = 0.4359\n",
      "Class 1: Best threshold = 0.50, F1 = 0.5402\n",
      "Class 2: Best threshold = 0.55, F1 = 0.2069\n",
      "Class 3: Best threshold = 0.50, F1 = 0.1647\n",
      "Class 4: Best threshold = 0.45, F1 = 0.6397\n",
      "Epoch 68/120\n",
      "Accuracy: 0.7224\n",
      "Train Loss: 0.9885\n",
      "Val Loss: 1.0239\n",
      "F1 Score: 0.3975\n",
      "----------------------------------------------------------------------\n"
     ]
    },
    {
     "name": "stderr",
     "output_type": "stream",
     "text": [
      "Epoch 69/120: 100%|██████████| 171/171 [00:00<00:00, 352.58it/s]\n",
      "Validation: 100%|██████████| 37/37 [00:00<00:00, 646.38it/s]\n"
     ]
    },
    {
     "name": "stdout",
     "output_type": "stream",
     "text": [
      "\n",
      "Finding optimal thresholds:\n",
      "Class 0: Best threshold = 0.55, F1 = 0.4387\n",
      "Class 1: Best threshold = 0.45, F1 = 0.5348\n",
      "Class 2: Best threshold = 0.55, F1 = 0.2087\n",
      "Class 3: Best threshold = 0.50, F1 = 0.1667\n",
      "Class 4: Best threshold = 0.45, F1 = 0.6388\n",
      "Epoch 69/120\n",
      "Accuracy: 0.7015\n",
      "Train Loss: 0.9839\n",
      "Val Loss: 1.0236\n",
      "F1 Score: 0.3975\n",
      "----------------------------------------------------------------------\n"
     ]
    },
    {
     "name": "stderr",
     "output_type": "stream",
     "text": [
      "Epoch 70/120: 100%|██████████| 171/171 [00:00<00:00, 357.62it/s]\n",
      "Validation: 100%|██████████| 37/37 [00:00<00:00, 660.01it/s]\n"
     ]
    },
    {
     "name": "stdout",
     "output_type": "stream",
     "text": [
      "\n",
      "Finding optimal thresholds:\n",
      "Class 0: Best threshold = 0.55, F1 = 0.4331\n",
      "Class 1: Best threshold = 0.50, F1 = 0.5391\n",
      "Class 2: Best threshold = 0.55, F1 = 0.2069\n",
      "Class 3: Best threshold = 0.55, F1 = 0.1842\n",
      "Class 4: Best threshold = 0.45, F1 = 0.6366\n",
      "Epoch 70/120\n",
      "Accuracy: 0.7494\n",
      "Train Loss: 0.9862\n",
      "Val Loss: 1.0228\n",
      "F1 Score: 0.4000\n",
      "----------------------------------------------------------------------\n"
     ]
    },
    {
     "name": "stderr",
     "output_type": "stream",
     "text": [
      "Epoch 71/120: 100%|██████████| 171/171 [00:00<00:00, 354.41it/s]\n",
      "Validation: 100%|██████████| 37/37 [00:00<00:00, 660.87it/s]\n"
     ]
    },
    {
     "name": "stdout",
     "output_type": "stream",
     "text": [
      "\n",
      "Finding optimal thresholds:\n",
      "Class 0: Best threshold = 0.55, F1 = 0.4387\n",
      "Class 1: Best threshold = 0.50, F1 = 0.5385\n",
      "Class 2: Best threshold = 0.55, F1 = 0.1935\n",
      "Class 3: Best threshold = 0.55, F1 = 0.1975\n",
      "Class 4: Best threshold = 0.45, F1 = 0.6375\n",
      "Epoch 71/120\n",
      "Accuracy: 0.7453\n",
      "Train Loss: 0.9862\n",
      "Val Loss: 1.0226\n",
      "F1 Score: 0.4011\n",
      "----------------------------------------------------------------------\n"
     ]
    },
    {
     "name": "stderr",
     "output_type": "stream",
     "text": [
      "Epoch 72/120: 100%|██████████| 171/171 [00:00<00:00, 360.59it/s]\n",
      "Validation: 100%|██████████| 37/37 [00:00<00:00, 669.62it/s]\n"
     ]
    },
    {
     "name": "stdout",
     "output_type": "stream",
     "text": [
      "\n",
      "Finding optimal thresholds:\n",
      "Class 0: Best threshold = 0.55, F1 = 0.4387\n",
      "Class 1: Best threshold = 0.45, F1 = 0.5385\n",
      "Class 2: Best threshold = 0.55, F1 = 0.2051\n",
      "Class 3: Best threshold = 0.55, F1 = 0.1975\n",
      "Class 4: Best threshold = 0.40, F1 = 0.6350\n",
      "Epoch 72/120\n",
      "Accuracy: 0.7152\n",
      "Train Loss: 0.9808\n",
      "Val Loss: 1.0224\n",
      "F1 Score: 0.4030\n",
      "----------------------------------------------------------------------\n"
     ]
    },
    {
     "name": "stderr",
     "output_type": "stream",
     "text": [
      "Epoch 73/120: 100%|██████████| 171/171 [00:00<00:00, 359.78it/s]\n",
      "Validation: 100%|██████████| 37/37 [00:00<00:00, 664.59it/s]\n"
     ]
    },
    {
     "name": "stdout",
     "output_type": "stream",
     "text": [
      "\n",
      "Finding optimal thresholds:\n",
      "Class 0: Best threshold = 0.55, F1 = 0.4304\n",
      "Class 1: Best threshold = 0.45, F1 = 0.5383\n",
      "Class 2: Best threshold = 0.55, F1 = 0.2105\n",
      "Class 3: Best threshold = 0.55, F1 = 0.1818\n",
      "Class 4: Best threshold = 0.45, F1 = 0.6355\n",
      "Epoch 73/120\n",
      "Accuracy: 0.7296\n",
      "Train Loss: 0.9822\n",
      "Val Loss: 1.0214\n",
      "F1 Score: 0.3993\n",
      "----------------------------------------------------------------------\n"
     ]
    },
    {
     "name": "stderr",
     "output_type": "stream",
     "text": [
      "Epoch 74/120: 100%|██████████| 171/171 [00:00<00:00, 359.11it/s]\n",
      "Validation: 100%|██████████| 37/37 [00:00<00:00, 625.71it/s]\n"
     ]
    },
    {
     "name": "stdout",
     "output_type": "stream",
     "text": [
      "\n",
      "Finding optimal thresholds:\n",
      "Class 0: Best threshold = 0.55, F1 = 0.4224\n",
      "Class 1: Best threshold = 0.45, F1 = 0.5386\n",
      "Class 2: Best threshold = 0.65, F1 = 0.2034\n",
      "Class 3: Best threshold = 0.55, F1 = 0.1905\n",
      "Class 4: Best threshold = 0.40, F1 = 0.6350\n",
      "Epoch 74/120\n",
      "Accuracy: 0.7303\n",
      "Train Loss: 0.9809\n",
      "Val Loss: 1.0203\n",
      "F1 Score: 0.3980\n",
      "----------------------------------------------------------------------\n"
     ]
    },
    {
     "name": "stderr",
     "output_type": "stream",
     "text": [
      "Epoch 75/120: 100%|██████████| 171/171 [00:00<00:00, 359.39it/s]\n",
      "Validation: 100%|██████████| 37/37 [00:00<00:00, 686.77it/s]\n"
     ]
    },
    {
     "name": "stdout",
     "output_type": "stream",
     "text": [
      "\n",
      "Finding optimal thresholds:\n",
      "Class 0: Best threshold = 0.55, F1 = 0.4250\n",
      "Class 1: Best threshold = 0.45, F1 = 0.5359\n",
      "Class 2: Best threshold = 0.65, F1 = 0.2034\n",
      "Class 3: Best threshold = 0.55, F1 = 0.2051\n",
      "Class 4: Best threshold = 0.45, F1 = 0.6347\n",
      "Epoch 75/120\n",
      "Accuracy: 0.7456\n",
      "Train Loss: 0.9790\n",
      "Val Loss: 1.0199\n",
      "F1 Score: 0.4008\n",
      "----------------------------------------------------------------------\n"
     ]
    },
    {
     "name": "stderr",
     "output_type": "stream",
     "text": [
      "Epoch 76/120: 100%|██████████| 171/171 [00:00<00:00, 360.74it/s]\n",
      "Validation: 100%|██████████| 37/37 [00:00<00:00, 668.08it/s]\n"
     ]
    },
    {
     "name": "stdout",
     "output_type": "stream",
     "text": [
      "\n",
      "Finding optimal thresholds:\n",
      "Class 0: Best threshold = 0.55, F1 = 0.4198\n",
      "Class 1: Best threshold = 0.50, F1 = 0.5383\n",
      "Class 2: Best threshold = 0.65, F1 = 0.2034\n",
      "Class 3: Best threshold = 0.55, F1 = 0.1818\n",
      "Class 4: Best threshold = 0.45, F1 = 0.6348\n",
      "Epoch 76/120\n",
      "Accuracy: 0.7651\n",
      "Train Loss: 0.9809\n",
      "Val Loss: 1.0195\n",
      "F1 Score: 0.3956\n",
      "----------------------------------------------------------------------\n"
     ]
    },
    {
     "name": "stderr",
     "output_type": "stream",
     "text": [
      "Epoch 77/120: 100%|██████████| 171/171 [00:00<00:00, 346.94it/s]\n",
      "Validation: 100%|██████████| 37/37 [00:00<00:00, 676.39it/s]\n"
     ]
    },
    {
     "name": "stdout",
     "output_type": "stream",
     "text": [
      "\n",
      "Finding optimal thresholds:\n",
      "Class 0: Best threshold = 0.55, F1 = 0.4304\n",
      "Class 1: Best threshold = 0.45, F1 = 0.5386\n",
      "Class 2: Best threshold = 0.65, F1 = 0.2000\n",
      "Class 3: Best threshold = 0.50, F1 = 0.1772\n",
      "Class 4: Best threshold = 0.45, F1 = 0.6362\n",
      "Epoch 77/120\n",
      "Accuracy: 0.7224\n",
      "Train Loss: 0.9807\n",
      "Val Loss: 1.0192\n",
      "F1 Score: 0.3965\n",
      "----------------------------------------------------------------------\n"
     ]
    },
    {
     "name": "stderr",
     "output_type": "stream",
     "text": [
      "Epoch 78/120: 100%|██████████| 171/171 [00:00<00:00, 357.29it/s]\n",
      "Validation: 100%|██████████| 37/37 [00:00<00:00, 664.29it/s]\n"
     ]
    },
    {
     "name": "stdout",
     "output_type": "stream",
     "text": [
      "\n",
      "Finding optimal thresholds:\n",
      "Class 0: Best threshold = 0.55, F1 = 0.4198\n",
      "Class 1: Best threshold = 0.45, F1 = 0.5415\n",
      "Class 2: Best threshold = 0.55, F1 = 0.2031\n",
      "Class 3: Best threshold = 0.50, F1 = 0.1830\n",
      "Class 4: Best threshold = 0.45, F1 = 0.6348\n",
      "Epoch 78/120\n",
      "Accuracy: 0.7070\n",
      "Train Loss: 0.9734\n",
      "Val Loss: 1.0180\n",
      "F1 Score: 0.3964\n",
      "----------------------------------------------------------------------\n"
     ]
    },
    {
     "name": "stderr",
     "output_type": "stream",
     "text": [
      "Epoch 79/120: 100%|██████████| 171/171 [00:00<00:00, 359.67it/s]\n",
      "Validation: 100%|██████████| 37/37 [00:00<00:00, 623.48it/s]\n"
     ]
    },
    {
     "name": "stdout",
     "output_type": "stream",
     "text": [
      "\n",
      "Finding optimal thresholds:\n",
      "Class 0: Best threshold = 0.55, F1 = 0.4250\n",
      "Class 1: Best threshold = 0.45, F1 = 0.5388\n",
      "Class 2: Best threshold = 0.55, F1 = 0.2080\n",
      "Class 3: Best threshold = 0.50, F1 = 0.1761\n",
      "Class 4: Best threshold = 0.45, F1 = 0.6376\n",
      "Epoch 79/120\n",
      "Accuracy: 0.7063\n",
      "Train Loss: 0.9774\n",
      "Val Loss: 1.0180\n",
      "F1 Score: 0.3971\n",
      "----------------------------------------------------------------------\n"
     ]
    },
    {
     "name": "stderr",
     "output_type": "stream",
     "text": [
      "Epoch 80/120: 100%|██████████| 171/171 [00:00<00:00, 361.58it/s]\n",
      "Validation: 100%|██████████| 37/37 [00:00<00:00, 614.29it/s]\n"
     ]
    },
    {
     "name": "stdout",
     "output_type": "stream",
     "text": [
      "\n",
      "Finding optimal thresholds:\n",
      "Class 0: Best threshold = 0.55, F1 = 0.4250\n",
      "Class 1: Best threshold = 0.45, F1 = 0.5395\n",
      "Class 2: Best threshold = 0.65, F1 = 0.1967\n",
      "Class 3: Best threshold = 0.50, F1 = 0.1750\n",
      "Class 4: Best threshold = 0.45, F1 = 0.6365\n",
      "Epoch 80/120\n",
      "Accuracy: 0.7231\n",
      "Train Loss: 0.9753\n",
      "Val Loss: 1.0176\n",
      "F1 Score: 0.3945\n",
      "----------------------------------------------------------------------\n"
     ]
    },
    {
     "name": "stderr",
     "output_type": "stream",
     "text": [
      "Epoch 81/120: 100%|██████████| 171/171 [00:00<00:00, 358.22it/s]\n",
      "Validation: 100%|██████████| 37/37 [00:00<00:00, 669.92it/s]\n"
     ]
    },
    {
     "name": "stdout",
     "output_type": "stream",
     "text": [
      "\n",
      "Finding optimal thresholds:\n",
      "Class 0: Best threshold = 0.55, F1 = 0.4198\n",
      "Class 1: Best threshold = 0.45, F1 = 0.5424\n",
      "Class 2: Best threshold = 0.55, F1 = 0.2097\n",
      "Class 3: Best threshold = 0.55, F1 = 0.2051\n",
      "Class 4: Best threshold = 0.45, F1 = 0.6394\n",
      "Epoch 81/120\n",
      "Accuracy: 0.7316\n",
      "Train Loss: 0.9732\n",
      "Val Loss: 1.0167\n",
      "F1 Score: 0.4033\n",
      "----------------------------------------------------------------------\n"
     ]
    },
    {
     "name": "stderr",
     "output_type": "stream",
     "text": [
      "Epoch 82/120: 100%|██████████| 171/171 [00:00<00:00, 352.96it/s]\n",
      "Validation: 100%|██████████| 37/37 [00:00<00:00, 688.05it/s]\n"
     ]
    },
    {
     "name": "stdout",
     "output_type": "stream",
     "text": [
      "\n",
      "Finding optimal thresholds:\n",
      "Class 0: Best threshold = 0.55, F1 = 0.4250\n",
      "Class 1: Best threshold = 0.45, F1 = 0.5415\n",
      "Class 2: Best threshold = 0.55, F1 = 0.2114\n",
      "Class 3: Best threshold = 0.55, F1 = 0.2051\n",
      "Class 4: Best threshold = 0.45, F1 = 0.6404\n",
      "Epoch 82/120\n",
      "Accuracy: 0.7323\n",
      "Train Loss: 0.9736\n",
      "Val Loss: 1.0168\n",
      "F1 Score: 0.4047\n",
      "----------------------------------------------------------------------\n"
     ]
    },
    {
     "name": "stderr",
     "output_type": "stream",
     "text": [
      "Epoch 83/120: 100%|██████████| 171/171 [00:00<00:00, 360.83it/s]\n",
      "Validation: 100%|██████████| 37/37 [00:00<00:00, 679.88it/s]\n"
     ]
    },
    {
     "name": "stdout",
     "output_type": "stream",
     "text": [
      "\n",
      "Finding optimal thresholds:\n",
      "Class 0: Best threshold = 0.55, F1 = 0.4277\n",
      "Class 1: Best threshold = 0.45, F1 = 0.5388\n",
      "Class 2: Best threshold = 0.55, F1 = 0.2034\n",
      "Class 3: Best threshold = 0.55, F1 = 0.2025\n",
      "Class 4: Best threshold = 0.45, F1 = 0.6397\n",
      "Epoch 83/120\n",
      "Accuracy: 0.7316\n",
      "Train Loss: 0.9757\n",
      "Val Loss: 1.0166\n",
      "F1 Score: 0.4024\n",
      "----------------------------------------------------------------------\n"
     ]
    },
    {
     "name": "stderr",
     "output_type": "stream",
     "text": [
      "Epoch 84/120: 100%|██████████| 171/171 [00:00<00:00, 353.83it/s]\n",
      "Validation: 100%|██████████| 37/37 [00:00<00:00, 679.10it/s]\n"
     ]
    },
    {
     "name": "stdout",
     "output_type": "stream",
     "text": [
      "\n",
      "Finding optimal thresholds:\n",
      "Class 0: Best threshold = 0.55, F1 = 0.4321\n",
      "Class 1: Best threshold = 0.45, F1 = 0.5380\n",
      "Class 2: Best threshold = 0.55, F1 = 0.2063\n",
      "Class 3: Best threshold = 0.55, F1 = 0.1951\n",
      "Class 4: Best threshold = 0.45, F1 = 0.6383\n",
      "Epoch 84/120\n",
      "Accuracy: 0.7289\n",
      "Train Loss: 0.9696\n",
      "Val Loss: 1.0159\n",
      "F1 Score: 0.4020\n",
      "----------------------------------------------------------------------\n"
     ]
    },
    {
     "name": "stderr",
     "output_type": "stream",
     "text": [
      "Epoch 85/120: 100%|██████████| 171/171 [00:00<00:00, 354.25it/s]\n",
      "Validation: 100%|██████████| 37/37 [00:00<00:00, 675.32it/s]\n"
     ]
    },
    {
     "name": "stdout",
     "output_type": "stream",
     "text": [
      "\n",
      "Finding optimal thresholds:\n",
      "Class 0: Best threshold = 0.55, F1 = 0.4250\n",
      "Class 1: Best threshold = 0.45, F1 = 0.5404\n",
      "Class 2: Best threshold = 0.55, F1 = 0.2063\n",
      "Class 3: Best threshold = 0.55, F1 = 0.1951\n",
      "Class 4: Best threshold = 0.45, F1 = 0.6382\n",
      "Epoch 85/120\n",
      "Accuracy: 0.7296\n",
      "Train Loss: 0.9724\n",
      "Val Loss: 1.0158\n",
      "F1 Score: 0.4010\n",
      "----------------------------------------------------------------------\n"
     ]
    },
    {
     "name": "stderr",
     "output_type": "stream",
     "text": [
      "Epoch 86/120: 100%|██████████| 171/171 [00:00<00:00, 361.50it/s]\n",
      "Validation: 100%|██████████| 37/37 [00:00<00:00, 655.01it/s]\n"
     ]
    },
    {
     "name": "stdout",
     "output_type": "stream",
     "text": [
      "\n",
      "Finding optimal thresholds:\n",
      "Class 0: Best threshold = 0.55, F1 = 0.4217\n",
      "Class 1: Best threshold = 0.45, F1 = 0.5430\n",
      "Class 2: Best threshold = 0.55, F1 = 0.2087\n",
      "Class 3: Best threshold = 0.55, F1 = 0.1905\n",
      "Class 4: Best threshold = 0.45, F1 = 0.6375\n",
      "Epoch 86/120\n",
      "Accuracy: 0.7323\n",
      "Train Loss: 0.9691\n",
      "Val Loss: 1.0151\n",
      "F1 Score: 0.4003\n",
      "----------------------------------------------------------------------\n"
     ]
    },
    {
     "name": "stderr",
     "output_type": "stream",
     "text": [
      "Epoch 87/120: 100%|██████████| 171/171 [00:00<00:00, 356.32it/s]\n",
      "Validation: 100%|██████████| 37/37 [00:00<00:00, 674.09it/s]\n"
     ]
    },
    {
     "name": "stdout",
     "output_type": "stream",
     "text": [
      "\n",
      "Finding optimal thresholds:\n",
      "Class 0: Best threshold = 0.55, F1 = 0.4294\n",
      "Class 1: Best threshold = 0.45, F1 = 0.5430\n",
      "Class 2: Best threshold = 0.55, F1 = 0.2080\n",
      "Class 3: Best threshold = 0.55, F1 = 0.1975\n",
      "Class 4: Best threshold = 0.45, F1 = 0.6400\n",
      "Epoch 87/120\n",
      "Accuracy: 0.7333\n",
      "Train Loss: 0.9634\n",
      "Val Loss: 1.0148\n",
      "F1 Score: 0.4036\n",
      "----------------------------------------------------------------------\n"
     ]
    },
    {
     "name": "stderr",
     "output_type": "stream",
     "text": [
      "Epoch 88/120: 100%|██████████| 171/171 [00:00<00:00, 358.91it/s]\n",
      "Validation: 100%|██████████| 37/37 [00:00<00:00, 661.16it/s]\n"
     ]
    },
    {
     "name": "stdout",
     "output_type": "stream",
     "text": [
      "\n",
      "Finding optimal thresholds:\n",
      "Class 0: Best threshold = 0.55, F1 = 0.4337\n",
      "Class 1: Best threshold = 0.45, F1 = 0.5451\n",
      "Class 2: Best threshold = 0.55, F1 = 0.2149\n",
      "Class 3: Best threshold = 0.50, F1 = 0.1795\n",
      "Class 4: Best threshold = 0.45, F1 = 0.6383\n",
      "Epoch 88/120\n",
      "Accuracy: 0.7132\n",
      "Train Loss: 0.9660\n",
      "Val Loss: 1.0142\n",
      "F1 Score: 0.4023\n",
      "----------------------------------------------------------------------\n"
     ]
    },
    {
     "name": "stderr",
     "output_type": "stream",
     "text": [
      "Epoch 89/120: 100%|██████████| 171/171 [00:00<00:00, 352.67it/s]\n",
      "Validation: 100%|██████████| 37/37 [00:00<00:00, 641.24it/s]\n"
     ]
    },
    {
     "name": "stdout",
     "output_type": "stream",
     "text": [
      "\n",
      "Finding optimal thresholds:\n",
      "Class 0: Best threshold = 0.55, F1 = 0.4364\n",
      "Class 1: Best threshold = 0.45, F1 = 0.5427\n",
      "Class 2: Best threshold = 0.55, F1 = 0.2080\n",
      "Class 3: Best threshold = 0.55, F1 = 0.2025\n",
      "Class 4: Best threshold = 0.45, F1 = 0.6410\n",
      "Epoch 89/120\n",
      "Accuracy: 0.7333\n",
      "Train Loss: 0.9655\n",
      "Val Loss: 1.0140\n",
      "F1 Score: 0.4061\n",
      "----------------------------------------------------------------------\n"
     ]
    },
    {
     "name": "stderr",
     "output_type": "stream",
     "text": [
      "Epoch 90/120: 100%|██████████| 171/171 [00:00<00:00, 343.74it/s]\n",
      "Validation: 100%|██████████| 37/37 [00:00<00:00, 675.50it/s]\n"
     ]
    },
    {
     "name": "stdout",
     "output_type": "stream",
     "text": [
      "\n",
      "Finding optimal thresholds:\n",
      "Class 0: Best threshold = 0.55, F1 = 0.4337\n",
      "Class 1: Best threshold = 0.45, F1 = 0.5409\n",
      "Class 2: Best threshold = 0.55, F1 = 0.2149\n",
      "Class 3: Best threshold = 0.55, F1 = 0.2143\n",
      "Class 4: Best threshold = 0.35, F1 = 0.6332\n",
      "Epoch 90/120\n",
      "Accuracy: 0.7138\n",
      "Train Loss: 0.9650\n",
      "Val Loss: 1.0138\n",
      "F1 Score: 0.4074\n",
      "----------------------------------------------------------------------\n"
     ]
    },
    {
     "name": "stderr",
     "output_type": "stream",
     "text": [
      "Epoch 91/120: 100%|██████████| 171/171 [00:00<00:00, 353.88it/s]\n",
      "Validation: 100%|██████████| 37/37 [00:00<00:00, 648.48it/s]\n"
     ]
    },
    {
     "name": "stdout",
     "output_type": "stream",
     "text": [
      "\n",
      "Finding optimal thresholds:\n",
      "Class 0: Best threshold = 0.55, F1 = 0.4337\n",
      "Class 1: Best threshold = 0.45, F1 = 0.5451\n",
      "Class 2: Best threshold = 0.55, F1 = 0.2080\n",
      "Class 3: Best threshold = 0.55, F1 = 0.2143\n",
      "Class 4: Best threshold = 0.45, F1 = 0.6370\n",
      "Epoch 91/120\n",
      "Accuracy: 0.7337\n",
      "Train Loss: 0.9636\n",
      "Val Loss: 1.0128\n",
      "F1 Score: 0.4076\n",
      "----------------------------------------------------------------------\n"
     ]
    },
    {
     "name": "stderr",
     "output_type": "stream",
     "text": [
      "Epoch 92/120: 100%|██████████| 171/171 [00:00<00:00, 358.82it/s]\n",
      "Validation: 100%|██████████| 37/37 [00:00<00:00, 666.44it/s]\n"
     ]
    },
    {
     "name": "stdout",
     "output_type": "stream",
     "text": [
      "\n",
      "Finding optimal thresholds:\n",
      "Class 0: Best threshold = 0.55, F1 = 0.4337\n",
      "Class 1: Best threshold = 0.50, F1 = 0.5428\n",
      "Class 2: Best threshold = 0.55, F1 = 0.2047\n",
      "Class 3: Best threshold = 0.55, F1 = 0.2143\n",
      "Class 4: Best threshold = 0.45, F1 = 0.6320\n",
      "Epoch 92/120\n",
      "Accuracy: 0.7487\n",
      "Train Loss: 0.9646\n",
      "Val Loss: 1.0120\n",
      "F1 Score: 0.4055\n",
      "----------------------------------------------------------------------\n"
     ]
    },
    {
     "name": "stderr",
     "output_type": "stream",
     "text": [
      "Epoch 93/120: 100%|██████████| 171/171 [00:00<00:00, 358.36it/s]\n",
      "Validation: 100%|██████████| 37/37 [00:00<00:00, 658.67it/s]\n"
     ]
    },
    {
     "name": "stdout",
     "output_type": "stream",
     "text": [
      "\n",
      "Finding optimal thresholds:\n",
      "Class 0: Best threshold = 0.55, F1 = 0.4337\n",
      "Class 1: Best threshold = 0.50, F1 = 0.5485\n",
      "Class 2: Best threshold = 0.55, F1 = 0.2063\n",
      "Class 3: Best threshold = 0.55, F1 = 0.2045\n",
      "Class 4: Best threshold = 0.45, F1 = 0.6340\n",
      "Epoch 93/120\n",
      "Accuracy: 0.7497\n",
      "Train Loss: 0.9625\n",
      "Val Loss: 1.0117\n",
      "F1 Score: 0.4054\n",
      "----------------------------------------------------------------------\n"
     ]
    },
    {
     "name": "stderr",
     "output_type": "stream",
     "text": [
      "Epoch 94/120: 100%|██████████| 171/171 [00:00<00:00, 354.07it/s]\n",
      "Validation: 100%|██████████| 37/37 [00:00<00:00, 688.93it/s]\n"
     ]
    },
    {
     "name": "stdout",
     "output_type": "stream",
     "text": [
      "\n",
      "Finding optimal thresholds:\n",
      "Class 0: Best threshold = 0.55, F1 = 0.4497\n",
      "Class 1: Best threshold = 0.45, F1 = 0.5439\n",
      "Class 2: Best threshold = 0.55, F1 = 0.2000\n",
      "Class 3: Best threshold = 0.55, F1 = 0.2169\n",
      "Class 4: Best threshold = 0.45, F1 = 0.6340\n",
      "Epoch 94/120\n",
      "Accuracy: 0.7330\n",
      "Train Loss: 0.9619\n",
      "Val Loss: 1.0109\n",
      "F1 Score: 0.4089\n",
      "----------------------------------------------------------------------\n"
     ]
    },
    {
     "name": "stderr",
     "output_type": "stream",
     "text": [
      "Epoch 95/120: 100%|██████████| 171/171 [00:00<00:00, 358.02it/s]\n",
      "Validation: 100%|██████████| 37/37 [00:00<00:00, 677.27it/s]\n"
     ]
    },
    {
     "name": "stdout",
     "output_type": "stream",
     "text": [
      "\n",
      "Finding optimal thresholds:\n",
      "Class 0: Best threshold = 0.55, F1 = 0.4337\n",
      "Class 1: Best threshold = 0.50, F1 = 0.5447\n",
      "Class 2: Best threshold = 0.55, F1 = 0.2000\n",
      "Class 3: Best threshold = 0.55, F1 = 0.2169\n",
      "Class 4: Best threshold = 0.45, F1 = 0.6340\n",
      "Epoch 95/120\n",
      "Accuracy: 0.7484\n",
      "Train Loss: 0.9620\n",
      "Val Loss: 1.0108\n",
      "F1 Score: 0.4059\n",
      "----------------------------------------------------------------------\n"
     ]
    },
    {
     "name": "stderr",
     "output_type": "stream",
     "text": [
      "Epoch 96/120: 100%|██████████| 171/171 [00:00<00:00, 360.97it/s]\n",
      "Validation: 100%|██████████| 37/37 [00:00<00:00, 685.40it/s]\n"
     ]
    },
    {
     "name": "stdout",
     "output_type": "stream",
     "text": [
      "\n",
      "Finding optimal thresholds:\n",
      "Class 0: Best threshold = 0.55, F1 = 0.4337\n",
      "Class 1: Best threshold = 0.50, F1 = 0.5474\n",
      "Class 2: Best threshold = 0.55, F1 = 0.2000\n",
      "Class 3: Best threshold = 0.50, F1 = 0.1931\n",
      "Class 4: Best threshold = 0.45, F1 = 0.6360\n",
      "Epoch 96/120\n",
      "Accuracy: 0.7323\n",
      "Train Loss: 0.9635\n",
      "Val Loss: 1.0107\n",
      "F1 Score: 0.4020\n",
      "----------------------------------------------------------------------\n"
     ]
    },
    {
     "name": "stderr",
     "output_type": "stream",
     "text": [
      "Epoch 97/120: 100%|██████████| 171/171 [00:00<00:00, 360.79it/s]\n",
      "Validation: 100%|██████████| 37/37 [00:00<00:00, 632.83it/s]\n"
     ]
    },
    {
     "name": "stdout",
     "output_type": "stream",
     "text": [
      "\n",
      "Finding optimal thresholds:\n",
      "Class 0: Best threshold = 0.55, F1 = 0.4431\n",
      "Class 1: Best threshold = 0.50, F1 = 0.5432\n",
      "Class 2: Best threshold = 0.55, F1 = 0.2149\n",
      "Class 3: Best threshold = 0.55, F1 = 0.2118\n",
      "Class 4: Best threshold = 0.45, F1 = 0.6349\n",
      "Epoch 97/120\n",
      "Accuracy: 0.7504\n",
      "Train Loss: 0.9621\n",
      "Val Loss: 1.0109\n",
      "F1 Score: 0.4096\n",
      "----------------------------------------------------------------------\n"
     ]
    },
    {
     "name": "stderr",
     "output_type": "stream",
     "text": [
      "Epoch 98/120: 100%|██████████| 171/171 [00:00<00:00, 360.97it/s]\n",
      "Validation: 100%|██████████| 37/37 [00:00<00:00, 663.51it/s]\n"
     ]
    },
    {
     "name": "stdout",
     "output_type": "stream",
     "text": [
      "\n",
      "Finding optimal thresholds:\n",
      "Class 0: Best threshold = 0.55, F1 = 0.4497\n",
      "Class 1: Best threshold = 0.50, F1 = 0.5432\n",
      "Class 2: Best threshold = 0.45, F1 = 0.2026\n",
      "Class 3: Best threshold = 0.55, F1 = 0.2045\n",
      "Class 4: Best threshold = 0.45, F1 = 0.6349\n",
      "Epoch 98/120\n",
      "Accuracy: 0.7200\n",
      "Train Loss: 0.9594\n",
      "Val Loss: 1.0111\n",
      "F1 Score: 0.4070\n",
      "----------------------------------------------------------------------\n"
     ]
    },
    {
     "name": "stderr",
     "output_type": "stream",
     "text": [
      "Epoch 99/120: 100%|██████████| 171/171 [00:00<00:00, 358.21it/s]\n",
      "Validation: 100%|██████████| 37/37 [00:00<00:00, 677.51it/s]\n"
     ]
    },
    {
     "name": "stdout",
     "output_type": "stream",
     "text": [
      "\n",
      "Finding optimal thresholds:\n",
      "Class 0: Best threshold = 0.55, F1 = 0.4444\n",
      "Class 1: Best threshold = 0.50, F1 = 0.5462\n",
      "Class 2: Best threshold = 0.55, F1 = 0.2051\n",
      "Class 3: Best threshold = 0.55, F1 = 0.1957\n",
      "Class 4: Best threshold = 0.45, F1 = 0.6329\n",
      "Epoch 99/120\n",
      "Accuracy: 0.7497\n",
      "Train Loss: 0.9591\n",
      "Val Loss: 1.0100\n",
      "F1 Score: 0.4049\n",
      "----------------------------------------------------------------------\n"
     ]
    },
    {
     "name": "stderr",
     "output_type": "stream",
     "text": [
      "Epoch 100/120: 100%|██████████| 171/171 [00:00<00:00, 359.17it/s]\n",
      "Validation: 100%|██████████| 37/37 [00:00<00:00, 687.62it/s]\n"
     ]
    },
    {
     "name": "stdout",
     "output_type": "stream",
     "text": [
      "\n",
      "Finding optimal thresholds:\n",
      "Class 0: Best threshold = 0.55, F1 = 0.4497\n",
      "Class 1: Best threshold = 0.50, F1 = 0.5455\n",
      "Class 2: Best threshold = 0.55, F1 = 0.2149\n",
      "Class 3: Best threshold = 0.55, F1 = 0.1957\n",
      "Class 4: Best threshold = 0.35, F1 = 0.6330\n",
      "Epoch 100/120\n",
      "Accuracy: 0.7309\n",
      "Train Loss: 0.9595\n",
      "Val Loss: 1.0096\n",
      "F1 Score: 0.4077\n",
      "----------------------------------------------------------------------\n"
     ]
    },
    {
     "name": "stderr",
     "output_type": "stream",
     "text": [
      "Epoch 101/120: 100%|██████████| 171/171 [00:00<00:00, 355.81it/s]\n",
      "Validation: 100%|██████████| 37/37 [00:00<00:00, 659.92it/s]\n"
     ]
    },
    {
     "name": "stdout",
     "output_type": "stream",
     "text": [
      "\n",
      "Finding optimal thresholds:\n",
      "Class 0: Best threshold = 0.55, F1 = 0.4337\n",
      "Class 1: Best threshold = 0.50, F1 = 0.5424\n",
      "Class 2: Best threshold = 0.55, F1 = 0.2063\n",
      "Class 3: Best threshold = 0.55, F1 = 0.2093\n",
      "Class 4: Best threshold = 0.35, F1 = 0.6322\n",
      "Epoch 101/120\n",
      "Accuracy: 0.7303\n",
      "Train Loss: 0.9575\n",
      "Val Loss: 1.0095\n",
      "F1 Score: 0.4048\n",
      "----------------------------------------------------------------------\n"
     ]
    },
    {
     "name": "stderr",
     "output_type": "stream",
     "text": [
      "Epoch 102/120: 100%|██████████| 171/171 [00:00<00:00, 347.63it/s]\n",
      "Validation: 100%|██████████| 37/37 [00:00<00:00, 682.04it/s]\n"
     ]
    },
    {
     "name": "stdout",
     "output_type": "stream",
     "text": [
      "\n",
      "Finding optimal thresholds:\n",
      "Class 0: Best threshold = 0.55, F1 = 0.4471\n",
      "Class 1: Best threshold = 0.45, F1 = 0.5448\n",
      "Class 2: Best threshold = 0.55, F1 = 0.2149\n",
      "Class 3: Best threshold = 0.55, F1 = 0.2045\n",
      "Class 4: Best threshold = 0.35, F1 = 0.6330\n",
      "Epoch 102/120\n",
      "Accuracy: 0.7169\n",
      "Train Loss: 0.9546\n",
      "Val Loss: 1.0090\n",
      "F1 Score: 0.4089\n",
      "----------------------------------------------------------------------\n"
     ]
    },
    {
     "name": "stderr",
     "output_type": "stream",
     "text": [
      "Epoch 103/120: 100%|██████████| 171/171 [00:00<00:00, 359.29it/s]\n",
      "Validation: 100%|██████████| 37/37 [00:00<00:00, 639.07it/s]\n"
     ]
    },
    {
     "name": "stdout",
     "output_type": "stream",
     "text": [
      "\n",
      "Finding optimal thresholds:\n",
      "Class 0: Best threshold = 0.55, F1 = 0.4497\n",
      "Class 1: Best threshold = 0.50, F1 = 0.5485\n",
      "Class 2: Best threshold = 0.55, F1 = 0.2034\n",
      "Class 3: Best threshold = 0.55, F1 = 0.2118\n",
      "Class 4: Best threshold = 0.35, F1 = 0.6330\n",
      "Epoch 103/120\n",
      "Accuracy: 0.7340\n",
      "Train Loss: 0.9508\n",
      "Val Loss: 1.0094\n",
      "F1 Score: 0.4093\n",
      "----------------------------------------------------------------------\n"
     ]
    },
    {
     "name": "stderr",
     "output_type": "stream",
     "text": [
      "Epoch 104/120: 100%|██████████| 171/171 [00:00<00:00, 360.37it/s]\n",
      "Validation: 100%|██████████| 37/37 [00:00<00:00, 648.17it/s]\n"
     ]
    },
    {
     "name": "stdout",
     "output_type": "stream",
     "text": [
      "\n",
      "Finding optimal thresholds:\n",
      "Class 0: Best threshold = 0.55, F1 = 0.4444\n",
      "Class 1: Best threshold = 0.50, F1 = 0.5485\n",
      "Class 2: Best threshold = 0.55, F1 = 0.2149\n",
      "Class 3: Best threshold = 0.55, F1 = 0.2045\n",
      "Class 4: Best threshold = 0.35, F1 = 0.6329\n",
      "Epoch 104/120\n",
      "Accuracy: 0.7323\n",
      "Train Loss: 0.9530\n",
      "Val Loss: 1.0083\n",
      "F1 Score: 0.4090\n",
      "----------------------------------------------------------------------\n"
     ]
    },
    {
     "name": "stderr",
     "output_type": "stream",
     "text": [
      "Epoch 105/120: 100%|██████████| 171/171 [00:00<00:00, 356.46it/s]\n",
      "Validation: 100%|██████████| 37/37 [00:00<00:00, 646.83it/s]\n"
     ]
    },
    {
     "name": "stdout",
     "output_type": "stream",
     "text": [
      "\n",
      "Finding optimal thresholds:\n",
      "Class 0: Best threshold = 0.55, F1 = 0.4444\n",
      "Class 1: Best threshold = 0.50, F1 = 0.5519\n",
      "Class 2: Best threshold = 0.55, F1 = 0.2185\n",
      "Class 3: Best threshold = 0.55, F1 = 0.2045\n",
      "Class 4: Best threshold = 0.35, F1 = 0.6336\n",
      "Epoch 105/120\n",
      "Accuracy: 0.7344\n",
      "Train Loss: 0.9514\n",
      "Val Loss: 1.0082\n",
      "F1 Score: 0.4106\n",
      "----------------------------------------------------------------------\n"
     ]
    },
    {
     "name": "stderr",
     "output_type": "stream",
     "text": [
      "Epoch 106/120: 100%|██████████| 171/171 [00:00<00:00, 359.93it/s]\n",
      "Validation: 100%|██████████| 37/37 [00:00<00:00, 661.94it/s]\n"
     ]
    },
    {
     "name": "stdout",
     "output_type": "stream",
     "text": [
      "\n",
      "Finding optimal thresholds:\n",
      "Class 0: Best threshold = 0.55, F1 = 0.4471\n",
      "Class 1: Best threshold = 0.50, F1 = 0.5500\n",
      "Class 2: Best threshold = 0.55, F1 = 0.2080\n",
      "Class 3: Best threshold = 0.55, F1 = 0.2022\n",
      "Class 4: Best threshold = 0.35, F1 = 0.6321\n",
      "Epoch 106/120\n",
      "Accuracy: 0.7316\n",
      "Train Loss: 0.9525\n",
      "Val Loss: 1.0075\n",
      "F1 Score: 0.4079\n",
      "----------------------------------------------------------------------\n"
     ]
    },
    {
     "name": "stderr",
     "output_type": "stream",
     "text": [
      "Epoch 107/120: 100%|██████████| 171/171 [00:00<00:00, 360.59it/s]\n",
      "Validation: 100%|██████████| 37/37 [00:00<00:00, 684.26it/s]\n"
     ]
    },
    {
     "name": "stdout",
     "output_type": "stream",
     "text": [
      "\n",
      "Finding optimal thresholds:\n",
      "Class 0: Best threshold = 0.55, F1 = 0.4471\n",
      "Class 1: Best threshold = 0.50, F1 = 0.5511\n",
      "Class 2: Best threshold = 0.55, F1 = 0.2031\n",
      "Class 3: Best threshold = 0.55, F1 = 0.2045\n",
      "Class 4: Best threshold = 0.35, F1 = 0.6329\n",
      "Epoch 107/120\n",
      "Accuracy: 0.7316\n",
      "Train Loss: 0.9509\n",
      "Val Loss: 1.0070\n",
      "F1 Score: 0.4077\n",
      "----------------------------------------------------------------------\n"
     ]
    },
    {
     "name": "stderr",
     "output_type": "stream",
     "text": [
      "Epoch 108/120: 100%|██████████| 171/171 [00:00<00:00, 359.09it/s]\n",
      "Validation: 100%|██████████| 37/37 [00:00<00:00, 663.52it/s]\n"
     ]
    },
    {
     "name": "stdout",
     "output_type": "stream",
     "text": [
      "\n",
      "Finding optimal thresholds:\n",
      "Class 0: Best threshold = 0.55, F1 = 0.4444\n",
      "Class 1: Best threshold = 0.45, F1 = 0.5464\n",
      "Class 2: Best threshold = 0.55, F1 = 0.1970\n",
      "Class 3: Best threshold = 0.55, F1 = 0.2045\n",
      "Class 4: Best threshold = 0.35, F1 = 0.6336\n",
      "Epoch 108/120\n",
      "Accuracy: 0.7152\n",
      "Train Loss: 0.9513\n",
      "Val Loss: 1.0057\n",
      "F1 Score: 0.4052\n",
      "----------------------------------------------------------------------\n"
     ]
    },
    {
     "name": "stderr",
     "output_type": "stream",
     "text": [
      "Epoch 109/120: 100%|██████████| 171/171 [00:00<00:00, 359.69it/s]\n",
      "Validation: 100%|██████████| 37/37 [00:00<00:00, 656.49it/s]\n"
     ]
    },
    {
     "name": "stdout",
     "output_type": "stream",
     "text": [
      "\n",
      "Finding optimal thresholds:\n",
      "Class 0: Best threshold = 0.60, F1 = 0.4487\n",
      "Class 1: Best threshold = 0.45, F1 = 0.5464\n",
      "Class 2: Best threshold = 0.55, F1 = 0.2000\n",
      "Class 3: Best threshold = 0.55, F1 = 0.1957\n",
      "Class 4: Best threshold = 0.35, F1 = 0.6327\n",
      "Epoch 109/120\n",
      "Accuracy: 0.7176\n",
      "Train Loss: 0.9506\n",
      "Val Loss: 1.0052\n",
      "F1 Score: 0.4047\n",
      "----------------------------------------------------------------------\n"
     ]
    },
    {
     "name": "stderr",
     "output_type": "stream",
     "text": [
      "Epoch 110/120: 100%|██████████| 171/171 [00:00<00:00, 358.50it/s]\n",
      "Validation: 100%|██████████| 37/37 [00:00<00:00, 690.69it/s]\n"
     ]
    },
    {
     "name": "stdout",
     "output_type": "stream",
     "text": [
      "\n",
      "Finding optimal thresholds:\n",
      "Class 0: Best threshold = 0.55, F1 = 0.4471\n",
      "Class 1: Best threshold = 0.50, F1 = 0.5485\n",
      "Class 2: Best threshold = 0.55, F1 = 0.2063\n",
      "Class 3: Best threshold = 0.55, F1 = 0.2069\n",
      "Class 4: Best threshold = 0.45, F1 = 0.6348\n",
      "Epoch 110/120\n",
      "Accuracy: 0.7508\n",
      "Train Loss: 0.9443\n",
      "Val Loss: 1.0064\n",
      "F1 Score: 0.4087\n",
      "----------------------------------------------------------------------\n"
     ]
    },
    {
     "name": "stderr",
     "output_type": "stream",
     "text": [
      "Epoch 111/120: 100%|██████████| 171/171 [00:00<00:00, 350.44it/s]\n",
      "Validation: 100%|██████████| 37/37 [00:00<00:00, 679.92it/s]\n"
     ]
    },
    {
     "name": "stdout",
     "output_type": "stream",
     "text": [
      "\n",
      "Finding optimal thresholds:\n",
      "Class 0: Best threshold = 0.55, F1 = 0.4444\n",
      "Class 1: Best threshold = 0.50, F1 = 0.5537\n",
      "Class 2: Best threshold = 0.55, F1 = 0.2031\n",
      "Class 3: Best threshold = 0.55, F1 = 0.2045\n",
      "Class 4: Best threshold = 0.35, F1 = 0.6327\n",
      "Epoch 111/120\n",
      "Accuracy: 0.7313\n",
      "Train Loss: 0.9476\n",
      "Val Loss: 1.0055\n",
      "F1 Score: 0.4077\n",
      "----------------------------------------------------------------------\n"
     ]
    },
    {
     "name": "stderr",
     "output_type": "stream",
     "text": [
      "Epoch 112/120: 100%|██████████| 171/171 [00:00<00:00, 360.85it/s]\n",
      "Validation: 100%|██████████| 37/37 [00:00<00:00, 690.45it/s]\n"
     ]
    },
    {
     "name": "stdout",
     "output_type": "stream",
     "text": [
      "\n",
      "Finding optimal thresholds:\n",
      "Class 0: Best threshold = 0.60, F1 = 0.4487\n",
      "Class 1: Best threshold = 0.50, F1 = 0.5520\n",
      "Class 2: Best threshold = 0.55, F1 = 0.2016\n",
      "Class 3: Best threshold = 0.55, F1 = 0.2069\n",
      "Class 4: Best threshold = 0.35, F1 = 0.6327\n",
      "Epoch 112/120\n",
      "Accuracy: 0.7361\n",
      "Train Loss: 0.9422\n",
      "Val Loss: 1.0048\n",
      "F1 Score: 0.4084\n",
      "----------------------------------------------------------------------\n"
     ]
    },
    {
     "name": "stderr",
     "output_type": "stream",
     "text": [
      "Epoch 113/120: 100%|██████████| 171/171 [00:00<00:00, 350.69it/s]\n",
      "Validation: 100%|██████████| 37/37 [00:00<00:00, 674.77it/s]\n"
     ]
    },
    {
     "name": "stdout",
     "output_type": "stream",
     "text": [
      "\n",
      "Finding optimal thresholds:\n",
      "Class 0: Best threshold = 0.55, F1 = 0.4444\n",
      "Class 1: Best threshold = 0.45, F1 = 0.5470\n",
      "Class 2: Best threshold = 0.55, F1 = 0.2063\n",
      "Class 3: Best threshold = 0.55, F1 = 0.1957\n",
      "Class 4: Best threshold = 0.35, F1 = 0.6327\n",
      "Epoch 113/120\n",
      "Accuracy: 0.7156\n",
      "Train Loss: 0.9476\n",
      "Val Loss: 1.0052\n",
      "F1 Score: 0.4052\n",
      "----------------------------------------------------------------------\n"
     ]
    },
    {
     "name": "stderr",
     "output_type": "stream",
     "text": [
      "Epoch 114/120: 100%|██████████| 171/171 [00:00<00:00, 350.02it/s]\n",
      "Validation: 100%|██████████| 37/37 [00:00<00:00, 675.12it/s]\n"
     ]
    },
    {
     "name": "stdout",
     "output_type": "stream",
     "text": [
      "\n",
      "Finding optimal thresholds:\n",
      "Class 0: Best threshold = 0.55, F1 = 0.4471\n",
      "Class 1: Best threshold = 0.50, F1 = 0.5507\n",
      "Class 2: Best threshold = 0.55, F1 = 0.2080\n",
      "Class 3: Best threshold = 0.55, F1 = 0.2340\n",
      "Class 4: Best threshold = 0.35, F1 = 0.6327\n",
      "Epoch 114/120\n",
      "Accuracy: 0.7316\n",
      "Train Loss: 0.9449\n",
      "Val Loss: 1.0053\n",
      "F1 Score: 0.4145\n",
      "----------------------------------------------------------------------\n"
     ]
    },
    {
     "name": "stderr",
     "output_type": "stream",
     "text": [
      "Epoch 115/120: 100%|██████████| 171/171 [00:00<00:00, 355.56it/s]\n",
      "Validation: 100%|██████████| 37/37 [00:00<00:00, 669.37it/s]\n"
     ]
    },
    {
     "name": "stdout",
     "output_type": "stream",
     "text": [
      "\n",
      "Finding optimal thresholds:\n",
      "Class 0: Best threshold = 0.55, F1 = 0.4419\n",
      "Class 1: Best threshold = 0.50, F1 = 0.5567\n",
      "Class 2: Best threshold = 0.55, F1 = 0.2000\n",
      "Class 3: Best threshold = 0.55, F1 = 0.2069\n",
      "Class 4: Best threshold = 0.45, F1 = 0.6356\n",
      "Epoch 115/120\n",
      "Accuracy: 0.7518\n",
      "Train Loss: 0.9448\n",
      "Val Loss: 1.0038\n",
      "F1 Score: 0.4082\n",
      "----------------------------------------------------------------------\n"
     ]
    },
    {
     "name": "stderr",
     "output_type": "stream",
     "text": [
      "Epoch 116/120: 100%|██████████| 171/171 [00:00<00:00, 357.65it/s]\n",
      "Validation: 100%|██████████| 37/37 [00:00<00:00, 686.85it/s]\n"
     ]
    },
    {
     "name": "stdout",
     "output_type": "stream",
     "text": [
      "\n",
      "Finding optimal thresholds:\n",
      "Class 0: Best threshold = 0.55, F1 = 0.4509\n",
      "Class 1: Best threshold = 0.50, F1 = 0.5532\n",
      "Class 2: Best threshold = 0.55, F1 = 0.2114\n",
      "Class 3: Best threshold = 0.50, F1 = 0.2000\n",
      "Class 4: Best threshold = 0.45, F1 = 0.6376\n",
      "Epoch 116/120\n",
      "Accuracy: 0.7391\n",
      "Train Loss: 0.9413\n",
      "Val Loss: 1.0045\n",
      "F1 Score: 0.4106\n",
      "----------------------------------------------------------------------\n"
     ]
    },
    {
     "name": "stderr",
     "output_type": "stream",
     "text": [
      "Epoch 117/120: 100%|██████████| 171/171 [00:00<00:00, 361.68it/s]\n",
      "Validation: 100%|██████████| 37/37 [00:00<00:00, 675.21it/s]\n"
     ]
    },
    {
     "name": "stdout",
     "output_type": "stream",
     "text": [
      "\n",
      "Finding optimal thresholds:\n",
      "Class 0: Best threshold = 0.55, F1 = 0.4509\n",
      "Class 1: Best threshold = 0.50, F1 = 0.5551\n",
      "Class 2: Best threshold = 0.55, F1 = 0.1970\n",
      "Class 3: Best threshold = 0.55, F1 = 0.2045\n",
      "Class 4: Best threshold = 0.30, F1 = 0.6318\n",
      "Epoch 117/120\n",
      "Accuracy: 0.7296\n",
      "Train Loss: 0.9454\n",
      "Val Loss: 1.0030\n",
      "F1 Score: 0.4079\n",
      "----------------------------------------------------------------------\n"
     ]
    },
    {
     "name": "stderr",
     "output_type": "stream",
     "text": [
      "Epoch 118/120: 100%|██████████| 171/171 [00:00<00:00, 348.09it/s]\n",
      "Validation: 100%|██████████| 37/37 [00:00<00:00, 674.59it/s]\n"
     ]
    },
    {
     "name": "stdout",
     "output_type": "stream",
     "text": [
      "\n",
      "Finding optimal thresholds:\n",
      "Class 0: Best threshold = 0.55, F1 = 0.4444\n",
      "Class 1: Best threshold = 0.50, F1 = 0.5481\n",
      "Class 2: Best threshold = 0.55, F1 = 0.2031\n",
      "Class 3: Best threshold = 0.50, F1 = 0.2000\n",
      "Class 4: Best threshold = 0.45, F1 = 0.6324\n",
      "Epoch 118/120\n",
      "Accuracy: 0.7350\n",
      "Train Loss: 0.9390\n",
      "Val Loss: 1.0041\n",
      "F1 Score: 0.4056\n",
      "----------------------------------------------------------------------\n"
     ]
    },
    {
     "name": "stderr",
     "output_type": "stream",
     "text": [
      "Epoch 119/120: 100%|██████████| 171/171 [00:00<00:00, 361.35it/s]\n",
      "Validation: 100%|██████████| 37/37 [00:00<00:00, 665.09it/s]\n"
     ]
    },
    {
     "name": "stdout",
     "output_type": "stream",
     "text": [
      "\n",
      "Finding optimal thresholds:\n",
      "Class 0: Best threshold = 0.55, F1 = 0.4444\n",
      "Class 1: Best threshold = 0.50, F1 = 0.5481\n",
      "Class 2: Best threshold = 0.55, F1 = 0.2063\n",
      "Class 3: Best threshold = 0.55, F1 = 0.2093\n",
      "Class 4: Best threshold = 0.35, F1 = 0.6334\n",
      "Epoch 119/120\n",
      "Accuracy: 0.7333\n",
      "Train Loss: 0.9428\n",
      "Val Loss: 1.0040\n",
      "F1 Score: 0.4083\n",
      "----------------------------------------------------------------------\n"
     ]
    },
    {
     "name": "stderr",
     "output_type": "stream",
     "text": [
      "Epoch 120/120: 100%|██████████| 171/171 [00:00<00:00, 347.37it/s]\n",
      "Validation: 100%|██████████| 37/37 [00:00<00:00, 646.47it/s]\n"
     ]
    },
    {
     "name": "stdout",
     "output_type": "stream",
     "text": [
      "\n",
      "Finding optimal thresholds:\n",
      "Class 0: Best threshold = 0.55, F1 = 0.4419\n",
      "Class 1: Best threshold = 0.50, F1 = 0.5493\n",
      "Class 2: Best threshold = 0.55, F1 = 0.2031\n",
      "Class 3: Best threshold = 0.55, F1 = 0.2045\n",
      "Class 4: Best threshold = 0.45, F1 = 0.6324\n",
      "Epoch 120/120\n",
      "Accuracy: 0.7494\n",
      "Train Loss: 0.9386\n",
      "Val Loss: 1.0031\n",
      "F1 Score: 0.4062\n",
      "----------------------------------------------------------------------\n"
     ]
    }
   ],
   "source": [
    "# Create datasets with proper splits\n",
    "train_dataset = SAMSEMODataset(data, 'train', use_bert_tokenizer=False)  # Set True if raw text\n",
    "val_dataset = SAMSEMODataset(data, 'valid', use_bert_tokenizer=False)\n",
    "\n",
    "# Create dataloaders\n",
    "train_loader = DataLoader(train_dataset, batch_size=16, shuffle=True, collate_fn=collate_fn)\n",
    "val_loader = DataLoader(val_dataset, batch_size=16, collate_fn=collate_fn)\n",
    "\n",
    "# Model setup\n",
    "device = torch.device(\"cuda\" if torch.cuda.is_available() else \"cpu\")\n",
    "model = BERTEmotionClassifier(num_labels=train_dataset.num_labels, use_pretrained=False).to(device)  # Set True if raw text\n",
    "\n",
    "# Training parameters\n",
    "# criterion = nn.BCEWithLogitsLoss()  # Multi-label classification\n",
    "pos_weight = torch.tensor(neg_count/label_sums, dtype=torch.float).to(device)\n",
    "print(\"Class weights:\", pos_weight)\n",
    "criterion = nn.BCEWithLogitsLoss(pos_weight=pos_weight)  # Weighted loss for imbalanced classes\n",
    "optimizer = AdamW(model.parameters(), lr=1e-5)\n",
    "\n",
    "num_epochs = 120\n",
    "\n",
    "# Training history tracker\n",
    "history = {\n",
    "    'train_loss': [],\n",
    "    'val_loss': [],\n",
    "    'f1_scores': [],\n",
    "    'accuracy': []\n",
    "}\n",
    "\n",
    "# Training loop\n",
    "for epoch in range(num_epochs):\n",
    "    model.train()\n",
    "    train_loss = 0\n",
    "    \n",
    "    for batch in tqdm(train_loader, desc=f\"Epoch {epoch+1}/{num_epochs}\"):\n",
    "        # Handle different input types\n",
    "        if isinstance(batch['text'], dict):\n",
    "            # BERT tokenizer output\n",
    "            inputs = {k: v.to(device) for k, v in batch['text'].items()}\n",
    "            outputs = model(**inputs)\n",
    "        else:\n",
    "            # Pre-computed embeddings\n",
    "            text = batch['text'].to(device)\n",
    "            outputs = model(embeddings=text)\n",
    "            \n",
    "        labels = batch['labels'].to(device)\n",
    "        loss = criterion(outputs, labels)\n",
    "        \n",
    "        optimizer.zero_grad()\n",
    "        loss.backward()\n",
    "        torch.nn.utils.clip_grad_norm_(model.parameters(), max_norm=1.0) # Gradient clipping\n",
    "        optimizer.step()\n",
    "        \n",
    "        train_loss += loss.item()\n",
    "    \n",
    "    # Validation\n",
    "    model.eval()\n",
    "    val_loss = 0\n",
    "    all_outputs = []  # Store raw outputs before applying threshold\n",
    "    all_labels = []\n",
    "    \n",
    "    with torch.no_grad():\n",
    "        for batch in tqdm(val_loader, desc=\"Validation\"):\n",
    "            if isinstance(batch['text'], dict):\n",
    "                inputs = {k: v.to(device) for k, v in batch['text'].items()}\n",
    "                outputs = model(**inputs)\n",
    "            else:\n",
    "                text = batch['text'].to(device)\n",
    "                outputs = model(embeddings=text)\n",
    "                \n",
    "            labels = batch['labels'].to(device)\n",
    "            loss = criterion(outputs, labels)\n",
    "            val_loss += loss.item()\n",
    "\n",
    "            # Using direct threshold:\n",
    "            # preds = (torch.sigmoid(outputs) > 0.2).float() # Threshold\n",
    "            # all_preds.append(preds.cpu())\n",
    "            \n",
    "            # Store raw logits and labels for threshold optimization\n",
    "            all_outputs.append(outputs.cpu())\n",
    "            all_labels.append(labels.cpu())\n",
    "    \n",
    "    # Convert to numpy arrays\n",
    "    all_outputs = torch.cat(all_outputs).numpy()\n",
    "    all_labels = torch.cat(all_labels).numpy()\n",
    "    \n",
    "    #######################################################################\n",
    "    \n",
    "    sigmoid_outputs = 1/(1 + np.exp(-all_outputs))  # Apply sigmoid\n",
    "    \n",
    "    # Find optimal thresholds\n",
    "    print(\"\\nFinding optimal thresholds:\")\n",
    "    best_thresholds = find_optimal_threshold(sigmoid_outputs, all_labels)\n",
    "    \n",
    "    # Apply the optimal thresholds\n",
    "    all_preds = np.zeros_like(all_outputs)\n",
    "    for i, threshold in enumerate(best_thresholds):\n",
    "        all_preds[:, i] = (sigmoid_outputs[:, i] > threshold).astype(float)\n",
    "    \n",
    "    #######################################################################\n",
    "\n",
    "    # Calculate metrics \n",
    "    f1 = f1_score(all_labels, all_preds, average='macro')\n",
    "    accuracy = (all_preds == all_labels).mean()\n",
    "    \n",
    "    train_loss_avg = train_loss/len(train_loader)\n",
    "    val_loss_avg = val_loss/len(val_loader)\n",
    "    \n",
    "    # Print metrics\n",
    "    print(f\"Epoch {epoch+1}/{num_epochs}\")\n",
    "    print(f\"Accuracy: {accuracy:.4f}\")\n",
    "    print(f\"Train Loss: {train_loss_avg:.4f}\")\n",
    "    print(f\"Val Loss: {val_loss_avg:.4f}\")  \n",
    "    print(f\"F1 Score: {f1:.4f}\")\n",
    "    print(\"-\" * 70)\n",
    "\n",
    "    history['train_loss'].append(train_loss_avg)\n",
    "    history['val_loss'].append(val_loss_avg)\n",
    "    history['f1_scores'].append(f1)\n",
    "    history['accuracy'].append(accuracy)"
   ]
  },
  {
   "cell_type": "code",
   "execution_count": 9,
   "id": "fcb5bea4-b7b1-44cc-bd1f-b31cee0280bc",
   "metadata": {},
   "outputs": [
    {
     "data": {
      "image/png": "[encoded data removed]",
      "text/plain": [
       "<Figure size 1200x400 with 2 Axes>"
      ]
     },
     "metadata": {},
     "output_type": "display_data"
    }
   ],
   "source": [
    "plt.figure(figsize=(12, 4))\n",
    "\n",
    "# Plot training and validation loss\n",
    "plt.subplot(1, 2, 1)\n",
    "plt.plot(history['train_loss'], label='Train Loss')\n",
    "plt.plot(history['val_loss'], label='Val Loss')\n",
    "plt.title('Loss Over Epochs')\n",
    "plt.xlabel('Epoch')\n",
    "plt.ylabel('Loss')\n",
    "plt.legend()\n",
    "\n",
    "# Plot F1 and accuracy\n",
    "plt.subplot(1, 2, 2)\n",
    "plt.plot(history['f1_scores'], label='F1 Score')\n",
    "plt.plot(history['accuracy'], label='Accuracy')\n",
    "plt.title('Performance Metrics')\n",
    "plt.xlabel('Epoch')\n",
    "plt.ylabel('Score')\n",
    "plt.legend()\n",
    "\n",
    "plt.tight_layout()\n",
    "plt.show()\n",
    "\n",
    "# Prediction distribution visualization\n",
    "def plot_prediction_distribution(outputs, threshold=0.5):\n",
    "    plt.figure(figsize=(10, 6))\n",
    "    \n",
    "    # Plot sigmoid output distribution for each class\n",
    "    sigmoid_outputs = torch.sigmoid(outputs).cpu().numpy()\n",
    "    \n",
    "    for i in range(sigmoid_outputs.shape[1]):\n",
    "        sns.kdeplot(sigmoid_outputs[:, i], label=f'Class {i}')\n",
    "    \n",
    "    plt.axvline(x=threshold, color='red', linestyle='--', label=f'Threshold {threshold}')\n",
    "    plt.title('Model Output Distribution')\n",
    "    plt.xlabel('Sigmoid Output')\n",
    "    plt.ylabel('Density')\n",
    "    plt.legend()\n",
    "    plt.show()"
   ]
  },
  {
   "cell_type": "code",
   "execution_count": 10,
   "id": "12e66ea7-afe9-470c-a411-b2882acaa1ce",
   "metadata": {},
   "outputs": [
    {
     "data": {
      "image/png": "[encoded data removed]",
      "text/plain": [
       "<Figure size 1200x800 with 5 Axes>"
      ]
     },
     "metadata": {},
     "output_type": "display_data"
    }
   ],
   "source": [
    "# Plot the distribution of predictions with thresholds\n",
    "plt.figure(figsize=(12, 8))\n",
    "for i in range(len(best_thresholds)):\n",
    "    plt.subplot(2, 3, i+1)\n",
    "    plt.hist(sigmoid_outputs[:, i], bins=30, alpha=0.7, label=f'Class {i} pred')\n",
    "    plt.axvline(best_thresholds[i], color='r', linestyle='--', label=f'Threshold={best_thresholds[i]:.2f}')\n",
    "    plt.axvline(0.5, color='g', linestyle=':', label='Default (0.5)')\n",
    "    plt.title(f'Class {i} Distribution')\n",
    "    plt.legend()\n",
    "    \n",
    "plt.tight_layout()\n",
    "plt.show()"
   ]
  },
  {
   "cell_type": "code",
   "execution_count": 11,
   "id": "298b199b-3aa8-414f-bf73-2ac646e3c02a",
   "metadata": {},
   "outputs": [
    {
     "name": "stdout",
     "output_type": "stream",
     "text": [
      "\n",
      "Class-specific metrics with optimal thresholds:\n",
      "Class 0 - Accuracy: 0.8359, F1 Score: 0.4419, Threshold: 0.55\n",
      "Class 1 - Accuracy: 0.6325, F1 Score: 0.5493, Threshold: 0.50\n",
      "Class 2 - Accuracy: 0.8256, F1 Score: 0.2031, Threshold: 0.55\n",
      "Class 3 - Accuracy: 0.8803, F1 Score: 0.2045, Threshold: 0.55\n",
      "Class 4 - Accuracy: 0.5726, F1 Score: 0.6324, Threshold: 0.45\n"
     ]
    }
   ],
   "source": [
    "# Print class-specific metrics with optimal thresholds\n",
    "print(\"\\nClass-specific metrics with optimal thresholds:\")\n",
    "for i in range(len(best_thresholds)):\n",
    "    class_accuracy = (all_preds[:, i] == all_labels[:, i]).mean()\n",
    "    class_f1 = f1_score(all_labels[:, i], all_preds[:, i], average='binary')\n",
    "    print(f\"Class {i} - Accuracy: {class_accuracy:.4f}, F1 Score: {class_f1:.4f}, Threshold: {best_thresholds[i]:.2f}\")"
   ]
  },
  {
   "cell_type": "code",
   "execution_count": 12,
   "id": "6e4093a0-adba-4179-94a5-356d1c6efb0c",
   "metadata": {},
   "outputs": [
    {
     "name": "stdout",
     "output_type": "stream",
     "text": [
      "\n",
      "===== FINAL RESULTS =====\n",
      "Overall Accuracy: 74.94%\n",
      "Macro F1 Score: 0.4062\n",
      "\n",
      "Class-by-class results:\n",
      "Class 0 - Accuracy: 83.59%, F1 Score: 0.4419\n",
      "Class 1 - Accuracy: 63.25%, F1 Score: 0.5493\n",
      "Class 2 - Accuracy: 82.56%, F1 Score: 0.2031\n",
      "Class 3 - Accuracy: 88.03%, F1 Score: 0.2045\n",
      "Class 4 - Accuracy: 57.26%, F1 Score: 0.6324\n"
     ]
    }
   ],
   "source": [
    "# Add this after all training is complete\n",
    "print(\"\\n===== FINAL RESULTS =====\")\n",
    "print(f\"Overall Accuracy: {accuracy*100:.2f}%\")\n",
    "print(f\"Macro F1 Score: {f1:.4f}\")\n",
    "\n",
    "# Class breakdown\n",
    "print(\"\\nClass-by-class results:\")\n",
    "for i in range(train_dataset.num_labels):\n",
    "    class_accuracy = (all_preds[:, i] == all_labels[:, i]).mean()\n",
    "    class_f1 = f1_score(all_labels[:, i], all_preds[:, i], average='binary')\n",
    "    print(f\"Class {i} - Accuracy: {class_accuracy*100:.2f}%, F1 Score: {class_f1:.4f}\")"
   ]
  },
  {
   "cell_type": "code",
   "execution_count": null,
   "id": "3290cafb-8610-42e6-a853-f625aca679f5",
   "metadata": {},
   "outputs": [],
   "source": []
  }
 ],
 "metadata": {
  "kernelspec": {
   "display_name": "Python (jvenv)",
   "language": "python",
   "name": "jvenv"
  },
  "language_info": {
   "codemirror_mode": {
    "name": "ipython",
    "version": 3
   },
   "file_extension": ".py",
   "mimetype": "text/x-python",
   "name": "python",
   "nbconvert_exporter": "python",
   "pygments_lexer": "ipython3",
   "version": "3.11.6"
  }
 },
 "nbformat": 4,
 "nbformat_minor": 5
}
