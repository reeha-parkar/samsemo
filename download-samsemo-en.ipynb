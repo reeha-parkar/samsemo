{
 "cells": [
  {
   "cell_type": "code",
   "execution_count": 2,
   "id": "57f71aa9-6a34-4b32-a58e-7889379eae9b",
   "metadata": {},
   "outputs": [
    {
     "name": "stdout",
     "output_type": "stream",
     "text": [
      "Current working directory: /cephfs/volumes/hpc_data_usr/k24083007/2070c87e-fe07-4f03-a6c4-cae0de8ce617\n"
     ]
    }
   ],
   "source": [
    "import os\n",
    "print(\"Current working directory:\", os.getcwd())"
   ]
  },
  {
   "cell_type": "code",
   "execution_count": 3,
   "id": "e9962ea6-a493-4666-aa8c-b432abb91150",
   "metadata": {},
   "outputs": [
    {
     "data": {
      "application/vnd.jupyter.widget-view+json": {
       "model_id": "3e304575cbc941cfaf515336dc145e62",
       "version_major": 2,
       "version_minor": 0
      },
      "text/plain": [
       "EN.zip:   0%|          | 0.00/22.0G [00:00<?, ?B/s]"
      ]
     },
     "metadata": {},
     "output_type": "display_data"
    },
    {
     "name": "stdout",
     "output_type": "stream",
     "text": [
      "Downloaded to: /users/k24083007/.cache/huggingface/hub/datasets--SamsungNLP--SAMSEMO/snapshots/9d3a85852aff7aee6742c6d63bf3364080e5bc47/data/EN.zip\n"
     ]
    }
   ],
   "source": [
    "from huggingface_hub import hf_hub_download\n",
    "\n",
    "# Download the EN.zip file from the SAMSEMO dataset\n",
    "zip_path = hf_hub_download(\n",
    "    repo_id=\"SamsungNLP/SAMSEMO\",\n",
    "    repo_type=\"dataset\",\n",
    "    filename=\"data/EN.zip\"\n",
    ")\n",
    "\n",
    "print(\"Downloaded to:\", zip_path)"
   ]
  },
  {
   "cell_type": "code",
   "execution_count": 4,
   "id": "624ad196-7e83-419e-9d58-297900cf1e31",
   "metadata": {},
   "outputs": [
    {
     "name": "stdout",
     "output_type": "stream",
     "text": [
      "Extracted to: /scratch/users/k24083007/samsemo\n"
     ]
    }
   ],
   "source": [
    "import zipfile\n",
    "import os\n",
    "\n",
    "# Set destination\n",
    "extract_dir = \"/scratch/users/k24083007/samsemo\"\n",
    "\n",
    "# Unzip the dataset\n",
    "with zipfile.ZipFile(zip_path, 'r') as zip_ref:\n",
    "    zip_ref.extractall(extract_dir)\n",
    "\n",
    "print(f\"Extracted to: {extract_dir}\")"
   ]
  },
  {
   "cell_type": "code",
   "execution_count": null,
   "id": "baba1fcb-44d1-4999-b11a-1d0bb20bd224",
   "metadata": {},
   "outputs": [],
   "source": []
  }
 ],
 "metadata": {
  "kernelspec": {
   "display_name": "Python 3 (ipykernel)",
   "language": "python",
   "name": "python3"
  },
  "language_info": {
   "codemirror_mode": {
    "name": "ipython",
    "version": 3
   },
   "file_extension": ".py",
   "mimetype": "text/x-python",
   "name": "python",
   "nbconvert_exporter": "python",
   "pygments_lexer": "ipython3",
   "version": "3.11.6"
  }
 },
 "nbformat": 4,
 "nbformat_minor": 5
}
